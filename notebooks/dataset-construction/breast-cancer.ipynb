{
 "cells": [
  {
   "cell_type": "code",
   "execution_count": 1,
   "metadata": {},
   "outputs": [
    {
     "name": "stdout",
     "output_type": "stream",
     "text": [
      "Collecting imbalanced-learn\n",
      "\u001b[?25l  Downloading https://files.pythonhosted.org/packages/e6/62/08c14224a7e242df2cef7b312d2ef821c3931ec9b015ff93bb52ec8a10a3/imbalanced_learn-0.5.0-py3-none-any.whl (173kB)\n",
      "\u001b[K    100% |████████████████████████████████| 174kB 1.8MB/s ta 0:00:01\n",
      "\u001b[?25hRequirement already satisfied: scipy>=0.17 in /opt/conda/envs/beakerx/lib/python3.6/site-packages (from imbalanced-learn) (1.3.1)\n",
      "Requirement already satisfied: numpy>=1.11 in /opt/conda/envs/beakerx/lib/python3.6/site-packages (from imbalanced-learn) (1.15.1)\n",
      "Requirement already satisfied: scikit-learn>=0.21 in /opt/conda/envs/beakerx/lib/python3.6/site-packages (from imbalanced-learn) (0.21.3)\n",
      "Requirement already satisfied: joblib>=0.11 in /opt/conda/envs/beakerx/lib/python3.6/site-packages (from imbalanced-learn) (0.13.2)\n",
      "Installing collected packages: imbalanced-learn\n",
      "Successfully installed imbalanced-learn-0.5.0\n"
     ]
    }
   ],
   "source": [
    "!pip install imbalanced-learn"
   ]
  },
  {
   "cell_type": "code",
   "execution_count": 2,
   "metadata": {},
   "outputs": [],
   "source": [
    "import os\n",
    "import pandas as pd\n",
    "import numpy as np\n",
    "from pathlib import Path\n",
    "import re\n",
    "from imblearn.over_sampling import SMOTE"
   ]
  },
  {
   "cell_type": "code",
   "execution_count": 3,
   "metadata": {},
   "outputs": [],
   "source": [
    "dataset_dir = '../datasets/breast-cancer'\n",
    "\n",
    "if not os.path.exists(dataset_dir):\n",
    "    os.makedirs(dataset_dir)"
   ]
  },
  {
   "cell_type": "code",
   "execution_count": 4,
   "metadata": {},
   "outputs": [
    {
     "name": "stderr",
     "output_type": "stream",
     "text": [
      "--2019-08-10 01:29:30--  https://archive.ics.uci.edu/ml/machine-learning-databases/breast-cancer-wisconsin/breast-cancer-wisconsin.data\n",
      "Resolving archive.ics.uci.edu (archive.ics.uci.edu)... 128.195.10.252\n",
      "Connecting to archive.ics.uci.edu (archive.ics.uci.edu)|128.195.10.252|:443... connected.\n",
      "HTTP request sent, awaiting response... 200 OK\n",
      "Length: 19889 (19K) [application/x-httpd-php]\n",
      "Saving to: ‘breast-cancer-wisconsin.data’\n",
      "\n",
      "     0K .......... .........                                  100%  128K=0.2s\n",
      "\n",
      "2019-08-10 01:29:31 (128 KB/s) - ‘breast-cancer-wisconsin.data’ saved [19889/19889]\n",
      "\n"
     ]
    }
   ],
   "source": [
    "%%bash\n",
    "cd ../datasets/breast-cancer\n",
    "rm -f breast-cancer-wisconsin.data\n",
    "wget https://archive.ics.uci.edu/ml/machine-learning-databases/breast-cancer-wisconsin/breast-cancer-wisconsin.data"
   ]
  },
  {
   "cell_type": "code",
   "execution_count": 5,
   "metadata": {},
   "outputs": [],
   "source": [
    "df = pd.read_csv(os.path.join(dataset_dir, 'breast-cancer-wisconsin.data'), header=None, na_values='?',\n",
    "                              names=[\n",
    "                                  'id', 'clump_thickness', 'uniformity_cell_size', 'uniformity_cell_shape',\n",
    "                                  'marginal_adhesion', 'single_epithelial_cell_size', 'bare_nuclei',\n",
    "                                  'bland_chromatin', 'normal_nucleoli', 'mitoses', 'class'\n",
    "                              ])"
   ]
  },
  {
   "cell_type": "code",
   "execution_count": 6,
   "metadata": {},
   "outputs": [],
   "source": [
    "del df['id']"
   ]
  },
  {
   "cell_type": "code",
   "execution_count": 7,
   "metadata": {},
   "outputs": [
    {
     "name": "stderr",
     "output_type": "stream",
     "text": [
      "/opt/conda/envs/beakerx/lib/python3.6/site-packages/imblearn/utils/_validation.py:253: UserWarning: After over-sampling, the number of samples (5000) in class 2 will be larger than the number of samples in the majority class (class #2 -> 444)\n",
      "  n_samples_majority))\n",
      "/opt/conda/envs/beakerx/lib/python3.6/site-packages/imblearn/utils/_validation.py:253: UserWarning: After over-sampling, the number of samples (5000) in class 4 will be larger than the number of samples in the majority class (class #2 -> 444)\n",
      "  n_samples_majority))\n"
     ]
    }
   ],
   "source": [
    "# This SMOTE implementation doesn't work with missing values.\n",
    "df = df.dropna()\n",
    "X = df[[ c for c in df.columns.values if c != 'class' ]]\n",
    "y = df['class']\n",
    "sm = SMOTE(sampling_strategy={2: 5000, 4: 5000}, random_state=1)\n",
    "X_smoted, y_smoted = sm.fit_resample(X, y)\n",
    "Xy = np.concatenate([X_smoted, y_smoted.reshape(10000,1)], axis=1)\n",
    "df = pd.DataFrame(Xy, columns=df.columns.values)"
   ]
  },
  {
   "cell_type": "code",
   "execution_count": 8,
   "metadata": {},
   "outputs": [],
   "source": [
    "# Shuffle\n",
    "df = df.sample(frac=1)"
   ]
  },
  {
   "cell_type": "code",
   "execution_count": 9,
   "metadata": {},
   "outputs": [],
   "source": [
    "df.to_csv(os.path.join(dataset_dir, 'breast-cancer.csv'), index=False)"
   ]
  },
  {
   "cell_type": "code",
   "execution_count": null,
   "metadata": {},
   "outputs": [],
   "source": []
  }
 ],
 "metadata": {
  "kernelspec": {
   "display_name": "Python 3",
   "language": "python",
   "name": "python3"
  },
  "language_info": {
   "codemirror_mode": {
    "name": "ipython",
    "version": 3
   },
   "file_extension": ".py",
   "mimetype": "text/x-python",
   "name": "python",
   "nbconvert_exporter": "python",
   "pygments_lexer": "ipython3",
   "version": "3.6.6"
  },
  "toc": {
   "base_numbering": 1,
   "nav_menu": {},
   "number_sections": false,
   "sideBar": false,
   "skip_h1_title": false,
   "title_cell": "Table of Contents",
   "title_sidebar": "Contents",
   "toc_cell": false,
   "toc_position": {},
   "toc_section_display": false,
   "toc_window_display": false
  }
 },
 "nbformat": 4,
 "nbformat_minor": 2
}
