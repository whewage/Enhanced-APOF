{
 "cells": [
  {
   "cell_type": "code",
   "execution_count": 2,
   "metadata": {},
   "outputs": [],
   "source": [
    "import pandas as pd\n",
    "import os"
   ]
  },
  {
   "cell_type": "code",
   "execution_count": 3,
   "metadata": {},
   "outputs": [],
   "source": [
    "dataset_dir = '../datasets/electricity'\n",
    "\n",
    "if not os.path.exists(dataset_dir):\n",
    "    os.makedirs(dataset_dir)"
   ]
  },
  {
   "cell_type": "code",
   "execution_count": 4,
   "metadata": {},
   "outputs": [
    {
     "name": "stdout",
     "output_type": "stream",
     "text": [
      "Archive:  elecNormNew.arff.zip\n"
     ]
    },
    {
     "name": "stderr",
     "output_type": "stream",
     "text": [
      "--2019-08-11 04:43:10--  https://sourceforge.net/projects/moa-datastream/files/Datasets/Classification/elecNormNew.arff.zip\n",
      "Resolving sourceforge.net (sourceforge.net)... 216.105.38.13\n",
      "Connecting to sourceforge.net (sourceforge.net)|216.105.38.13|:443... connected.\n",
      "HTTP request sent, awaiting response... 301 Moved Permanently\n",
      "Location: https://sourceforge.net/projects/moa-datastream/files/Datasets/Classification/elecNormNew.arff.zip/ [following]\n",
      "--2019-08-11 04:43:11--  https://sourceforge.net/projects/moa-datastream/files/Datasets/Classification/elecNormNew.arff.zip/\n",
      "Connecting to sourceforge.net (sourceforge.net)|216.105.38.13|:443... connected.\n",
      "HTTP request sent, awaiting response... 302 Found\n",
      "Location: https://sourceforge.net/projects/moa-datastream/files/Datasets/Classification/elecNormNew.arff.zip/download [following]\n",
      "--2019-08-11 04:43:11--  https://sourceforge.net/projects/moa-datastream/files/Datasets/Classification/elecNormNew.arff.zip/download\n",
      "Connecting to sourceforge.net (sourceforge.net)|216.105.38.13|:443... connected.\n",
      "HTTP request sent, awaiting response... 302 Found\n",
      "Location: https://downloads.sourceforge.net/project/moa-datastream/Datasets/Classification/elecNormNew.arff.zip?r=&ts=1565498592&use_mirror=newcontinuum [following]\n",
      "--2019-08-11 04:43:12--  https://downloads.sourceforge.net/project/moa-datastream/Datasets/Classification/elecNormNew.arff.zip?r=&ts=1565498592&use_mirror=newcontinuum\n",
      "Resolving downloads.sourceforge.net (downloads.sourceforge.net)... 216.105.38.13\n",
      "Connecting to downloads.sourceforge.net (downloads.sourceforge.net)|216.105.38.13|:443... connected.\n",
      "HTTP request sent, awaiting response... 302 Found\n",
      "Location: https://newcontinuum.dl.sourceforge.net/project/moa-datastream/Datasets/Classification/elecNormNew.arff.zip [following]\n",
      "--2019-08-11 04:43:13--  https://newcontinuum.dl.sourceforge.net/project/moa-datastream/Datasets/Classification/elecNormNew.arff.zip\n",
      "Resolving newcontinuum.dl.sourceforge.net (newcontinuum.dl.sourceforge.net)... 64.79.96.4, 2607:ff50:0:11::32\n",
      "Connecting to newcontinuum.dl.sourceforge.net (newcontinuum.dl.sourceforge.net)|64.79.96.4|:443... connected.\n",
      "HTTP request sent, awaiting response... 200 OK\n",
      "Length: 714401 (698K) [application/octet-stream]\n",
      "Saving to: ‘elecNormNew.arff.zip.1’\n",
      "\n",
      "     0K .......... .......... .......... .......... ..........  7%  142K 5s\n",
      "    50K .......... .......... .......... .......... .......... 14%  282K 3s\n",
      "   100K .......... .......... .......... .......... .......... 21% 14.9M 2s\n",
      "   150K .......... .......... .......... .......... .......... 28% 44.6M 1s\n",
      "   200K .......... .......... .......... .......... .......... 35%  287K 1s\n",
      "   250K .......... .......... .......... .......... .......... 43% 12.4M 1s\n",
      "   300K .......... .......... .......... .......... .......... 50%  268K 1s\n",
      "   350K .......... .......... .......... .......... .......... 57% 31.8M 1s\n",
      "   400K .......... .......... .......... .......... .......... 64% 32.1M 0s\n",
      "   450K .......... .......... .......... .......... .......... 71%  280K 0s\n",
      "   500K .......... .......... .......... .......... .......... 78% 15.7M 0s\n",
      "   550K .......... .......... .......... .......... .......... 86% 8.37M 0s\n",
      "   600K .......... .......... .......... .......... .......... 93% 58.2M 0s\n",
      "   650K .......... .......... .......... .......... .......   100%  304K=1.2s\n",
      "\n",
      "2019-08-11 04:43:15 (560 KB/s) - ‘elecNormNew.arff.zip.1’ saved [714401/714401]\n",
      "\n",
      "replace elecNormNew.arff? [y]es, [n]o, [A]ll, [N]one, [r]ename:  NULL\n",
      "(EOF or read error, treating as \"[N]one\" ...)\n"
     ]
    }
   ],
   "source": [
    "%%bash\n",
    "cd ../datasets/electricity\n",
    "wget https://sourceforge.net/projects/moa-datastream/files/Datasets/Classification/elecNormNew.arff.zip\n",
    "unzip elecNormNew.arff.zip"
   ]
  },
  {
   "cell_type": "code",
   "execution_count": 5,
   "metadata": {},
   "outputs": [],
   "source": [
    "%%bash\n",
    "java=/opt/conda/envs/beakerx/bin/java\n",
    "moa=/home/beakerx/.m2/repository/nz/ac/waikato/cms/moa/moa/2017.06/moa-2017.06.jar\n",
    "weka=/home/beakerx/.m2/repository/nz/ac/waikato/cms/weka/weka-dev/3.7.12/weka-dev-3.7.12.jar\n",
    "pentahopm=/home/beakerx/.m2/repository/org/pentaho/pentaho-commons/pentaho-package-manager/1.0.8/pentaho-package-manager-1.0.8.jar\n",
    "output=/home/beakerx/ppdsp/notebooks/datasets/electricity\n",
    "$java -cp \"$pentahopm:$weka\" weka.core.converters.CSVSaver -i $output/elecNormNew.arff -o $output/elecNormNew.csv"
   ]
  },
  {
   "cell_type": "code",
   "execution_count": null,
   "metadata": {},
   "outputs": [],
   "source": []
  }
 ],
 "metadata": {
  "kernelspec": {
   "display_name": "Python 3",
   "language": "python",
   "name": "python3"
  },
  "language_info": {
   "codemirror_mode": {
    "name": "ipython",
    "version": 3
   },
   "file_extension": ".py",
   "mimetype": "text/x-python",
   "name": "python",
   "nbconvert_exporter": "python",
   "pygments_lexer": "ipython3",
   "version": "3.6.6"
  },
  "toc": {
   "base_numbering": 1,
   "nav_menu": {},
   "number_sections": false,
   "sideBar": false,
   "skip_h1_title": false,
   "title_cell": "Table of Contents",
   "title_sidebar": "Contents",
   "toc_cell": false,
   "toc_position": {},
   "toc_section_display": false,
   "toc_window_display": false
  }
 },
 "nbformat": 4,
 "nbformat_minor": 2
}
