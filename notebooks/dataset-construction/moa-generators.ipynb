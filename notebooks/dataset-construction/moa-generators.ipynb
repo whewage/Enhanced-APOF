{
 "cells": [
  {
   "cell_type": "code",
   "execution_count": 1,
   "metadata": {},
   "outputs": [
    {
     "name": "stdout",
     "output_type": "stream",
     "text": [
      "\n",
      "{M}assive {O}nline {A}nalysis\n",
      "Version:  17.06 June 2017\n",
      "Copyright: (C) 2007-2017 University of Waikato, Hamilton, New Zealand\n",
      "Web: http://moa.cms.waikato.ac.nz/\n",
      "\n",
      "- 0.00s [running] Writing stream to ARFF                                       \n",
      "                                                                               \n",
      "Task completed in 0.29s (CPU time)\n",
      "\n",
      "Stream written to ARFF file /home/beakerx/ppdsp/notebooks/datasets/moa-generators/sea-a.arff\n",
      "\n",
      "{M}assive {O}nline {A}nalysis\n",
      "Version:  17.06 June 2017\n",
      "Copyright: (C) 2007-2017 University of Waikato, Hamilton, New Zealand\n",
      "Web: http://moa.cms.waikato.ac.nz/\n",
      "\n",
      "- 0.00s [running] Writing stream to ARFF                                       \n",
      "                                                                               \n",
      "Task completed in 0.39s (CPU time)\n",
      "\n",
      "Stream written to ARFF file /home/beakerx/ppdsp/notebooks/datasets/moa-generators/rbf-f.arff\n",
      "\n"
     ]
    }
   ],
   "source": [
    "%%bash\n",
    "java=/opt/conda/envs/beakerx/bin/java\n",
    "moa=/home/beakerx/.m2/repository/nz/ac/waikato/cms/moa/moa/2017.06/moa-2017.06.jar\n",
    "weka=/home/beakerx/.m2/repository/nz/ac/waikato/cms/weka/weka-dev/3.7.12/weka-dev-3.7.12.jar\n",
    "pentahopm=/home/beakerx/.m2/repository/org/pentaho/pentaho-commons/pentaho-package-manager/1.0.8/pentaho-package-manager-1.0.8.jar\n",
    "output=/home/beakerx/ppdsp/notebooks/datasets/moa-generators\n",
    "mkdir -p $output\n",
    "$java -cp $moa moa.DoTask \"WriteStreamToARFFFile -s (ConceptDriftStream -s (ConceptDriftStream -s generators.SEAGenerator -d (generators.SEAGenerator -f 2) -p 25000 -w 1) -d (ConceptDriftStream -s (generators.SEAGenerator -f 3) -d (generators.SEAGenerator -f 4) -p 25000 -w 1) -p 50000 -w 1) -f $output/sea-a.arff -m 100000\"\n",
    "$java -cp \"$pentahopm:$weka\" weka.core.converters.CSVSaver -i $output/sea-a.arff -o $output/sea-a.csv\n",
    "$java -cp $moa moa.DoTask \"WriteStreamToARFFFile -s (generators.RandomRBFGeneratorDrift -s 0.001 -c 5) -f $output/rbf-f.arff -m 50000\"\n",
    "$java -cp \"$pentahopm:$weka\" weka.core.converters.CSVSaver -i $output/rbf-f.arff -o $output/rbf-f.csv"
   ]
  },
  {
   "cell_type": "code",
   "execution_count": null,
   "metadata": {},
   "outputs": [],
   "source": []
  }
 ],
 "metadata": {
  "kernelspec": {
   "display_name": "Clojure",
   "language": "clojure",
   "name": "clojure"
  },
  "language_info": {
   "codemirror_mode": "Clojure",
   "file_extension": ".clj",
   "mimetype": "text/x-clojure",
   "name": "Clojure",
   "nbconverter_exporter": "",
   "version": "1.9.0"
  },
  "toc": {
   "base_numbering": 1,
   "nav_menu": {},
   "number_sections": false,
   "sideBar": false,
   "skip_h1_title": false,
   "title_cell": "Table of Contents",
   "title_sidebar": "Contents",
   "toc_cell": false,
   "toc_position": {},
   "toc_section_display": false,
   "toc_window_display": false
  }
 },
 "nbformat": 4,
 "nbformat_minor": 2
}
