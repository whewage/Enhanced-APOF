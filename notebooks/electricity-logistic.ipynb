{
 "cells": [
  {
   "cell_type": "code",
   "execution_count": 1,
   "metadata": {
    "scrolled": true
   },
   "outputs": [
    {
     "name": "stdout",
     "output_type": "stream",
     "text": [
      "Retrieving org/clojure/tools.namespace/0.3.1/tools.namespace-0.3.1.jar from central\n",
      "Retrieving org/clojure/java.classpath/0.3.0/java.classpath-0.3.0.jar from central\n",
      "Retrieving org/clojure/tools.reader/1.3.2/tools.reader-1.3.2.jar from central\n",
      "Retrieving clj-time/clj-time/0.14.0/clj-time-0.14.0.jar from clojars\n",
      "Compiling ppdsp.classifier.base\n",
      "Compiling ppdsp.classifier.inspectablearf\n",
      "Compiling ppdsp.classifier.moa-classifier\n",
      "Compiling ppdsp.classifier.random\n",
      "Compiling ppdsp.core\n",
      "Compiling ppdsp.dataset.base\n",
      "Compiling ppdsp.dataset.csv-dataset\n",
      "Compiling ppdsp.dataset.moa\n",
      "Compiling ppdsp.dataset.save-csv\n",
      "Compiling ppdsp.masking.attack-data\n",
      "Compiling ppdsp.masking.base\n",
      "Compiling ppdsp.masking.data_fitting\n",
      "Compiling ppdsp.masking.evaluation\n",
      "Compiling ppdsp.masking.optimize\n",
      "Compiling ppdsp.masking.projection\n",
      "Compiling ppdsp.masking.single-stage-cumulative-attack\n",
      "Compiling ppdsp.masking.two-stage-cumulative-attack\n",
      "Compiling ppdsp.masking.two-stage-independent-attack\n",
      "Compiling ppdsp.masking.utils\n",
      "Compiling ppdsp.scratchpad\n",
      "Compiling ppdsp.training\n",
      "Compiling ppdsp.trees.base\n",
      "Compiling ppdsp.trees.graph-tree\n",
      "Compiling ppdsp.trees.parse-model\n",
      "Compiling ppdsp.utils.complex-numbers\n",
      "Compiling ppdsp.utils.matrices\n",
      "Compiling ppdsp.utils.moving-average\n",
      "Compiling ppdsp.utils.random\n",
      "Compiling ppdsp.utils.stats\n",
      "Compiling ppdsp.utils.timing\n",
      "Compiling ppdsp.utils\n",
      "Created /home/beakerx/ppdsp/target/jvm/uberjar/ppdsp-0.1.0-SNAPSHOT.jar\n",
      "Created /home/beakerx/ppdsp/target/jvm/uberjar/ppdsp-0.1.0-SNAPSHOT-standalone.jar\n",
      "\n"
     ]
    }
   ],
   "source": [
    "%%bash\n",
    "lein uberjar"
   ]
  },
  {
   "cell_type": "code",
   "execution_count": 1,
   "metadata": {},
   "outputs": [
    {
     "data": {
      "application/vnd.jupyter.widget-view+json": {
       "model_id": "48909a8d-66b9-4b65-991e-f0e707bf2b8d",
       "version_major": 2,
       "version_minor": 0
      },
      "method": "display_data"
     },
     "metadata": {},
     "output_type": "display_data"
    },
    {
     "data": {
      "text/plain": [
       "null"
      ]
     },
     "execution_count": 1,
     "metadata": {},
     "output_type": "execute_result"
    }
   ],
   "source": [
    " %classpath add jar ../target/jvm/uberjar/ppdsp-0.1.0-SNAPSHOT-standalone.jar\n",
    "(clojure.lang.Compiler/loadFile \"jupyter_helpers.clj\")\n",
    "(require '[clojure.string :as string]\n",
    "         '[clojure.data.csv :as csv]\n",
    "         '[clojure.java.io :as io]\n",
    "         '[clojure.pprint :refer [pprint print-table]]\n",
    "         '[jupyter-helpers :refer [save-data load-data display-table \n",
    "                                  ;; display-masking-error-plots  \n",
    "                                  ;; attack-strategy-comparison-plots \n",
    "                                   ;;noise-accuracy-plot accuracy-privacy-tradeoff-comparison\n",
    "                                  ;; display-html accuracy-privacy-tradeoff-legend\n",
    "                                   ;accuracy-privacy-tradeoff attack-strategy-comparison\n",
    "                                   round-known-record-counts\n",
    "                                   ;;added by Waruni\n",
    "                                    read-data run-masking-experiments-cycles     accuracy-updating-cycles   \n",
    "                                     save-data-append-newline  ;;accuracy-for-flat-areas \n",
    "                                   attack-per-cycle validate-datafitting-results\n",
    "                                   ]]\n",
    "         '[ppdsp.classifier.moa-classifier :refer [hoeffding-tree ]]    ;;changed\n",
    "         '[ppdsp.dataset.base :refer [dataset-feature-count dataset-record-count dataset-class-count get-schema]]\n",
    "         '[ppdsp.dataset.csv-dataset :refer [read-csv-dataset]]\n",
    "         '[ppdsp.masking.evaluation :refer [flatten-masking-experiment-recoveries\n",
    "                                           unknown-record-relative-position\n",
    "                                           add-combined-result\n",
    "                                           get-cumulative-noise-sigma  calculate-avarage-information-loss \n",
    "                                            get-attack-count\n",
    "                                               ]]\n",
    "         '[ppdsp.masking.data_fitting :refer [kernel-regression-using-fastmath k-AEL-final-from-selected-kernel]] ;retrieve-accuracy-using-fitted-function \n",
    "         '[ppdsp.utils :refer [map-vals mean]])\n",
    ";;(import '[java.lang.instrument Instrumentation])"
   ]
  },
  {
   "cell_type": "markdown",
   "metadata": {},
   "source": [
    "## Experiment Configuration"
   ]
  },
  {
   "cell_type": "code",
   "execution_count": 2,
   "metadata": {},
   "outputs": [
    {
     "data": {
      "text/plain": [
       "#'beaker_clojure_shell_cf657b96-0512-481b-af18-60b357753dda/dataset"
      ]
     },
     "execution_count": 2,
     "metadata": {},
     "output_type": "execute_result"
    }
   ],
   "source": [
    "(def dataset-label \"electricity\")\n",
    "(def dataset (read-csv-dataset \"datasets/electricity/elecNormNew.csv\"\n",
    "                               99999999 ;; All records\n",
    "                               ;; Numeric features\n",
    "                               [\"date\" \"day\" \"period\" \"nswprice\" \"nswdemand\" \"vicprice\" \"vicdemand\" \"transfer\"]))"
   ]
  },
  {
   "cell_type": "code",
   "execution_count": 3,
   "metadata": {
    "scrolled": false
   },
   "outputs": [
    {
     "data": {
      "text/plain": [
       "#'beaker_clojure_shell_cf657b96-0512-481b-af18-60b357753dda/logistic-cumulative-noise-configuration"
      ]
     },
     "execution_count": 3,
     "metadata": {},
     "output_type": "execute_result"
    }
   ],
   "source": [
    "(def epsilons 0.2)\n",
    "(def feature-count (dataset-feature-count dataset))\n",
    "(def record-count (dataset-record-count dataset))\n",
    "(def cycle-sizes [1000]) ;;Half of the cycle size [500 1000 2000 4000]\n",
    "(def attack-count (int (/(* record-count 0.05) 4)))  ;;attack count = (record-count * 5%)/4 as for each attack 4 known I/O pairsairs\n",
    "(def independent-noise-sigmas [0.25])\n",
    "(def cumulative-noise-sigmas (map #(get-cumulative-noise-sigma % record-count) independent-noise-sigmas))\n",
    "(def class-count (dataset-class-count dataset))\n",
    "\n",
    "\n",
    "(def base-configuration\n",
    "    {:dataset dataset\n",
    "     :projection-feature-counts [feature-count]\n",
    "     :projection-sigmas [1.0]\n",
    "     :translations [0]\n",
    "     :known-record-counts [4] ;;per attack->Total known record count = 4 * attack count = 5% of the record count\n",
    "     :known-record-ranges [1]\n",
    "     :classifier-fns {:hdt hoeffding-tree} \n",
    "     :attempt-count 3\n",
    "     :attack-count  attack-count\n",
    "     :threads-per-configuration 2\n",
    "     :threads-per-evaluation 1\n",
    "     :seed 1\n",
    "     ;:evaluations [:privacy-auc :accuracy :privacy-attacks]\n",
    "     :evaluations [:privacy :accuracy ]\n",
    "    }\n",
    ")\n",
    "\n",
    "(def logistic-cumulative-noise-configuration\n",
    "    (merge base-configuration\n",
    "           {:output-file (str \"workspace/\" dataset-label \"/logistic-cumulative-output.edn\")\n",
    "            :output-file-privacy-auc  (str \"workspace/\" dataset-label \"/logistic-cumulative-privacy-auc.csv\")\n",
    "            :attck-results-file  (str \"workspace/\" dataset-label \"/attack-results.edn\")\n",
    "            :output-file-privacy-attacks  (str \"workspace/\" dataset-label \"/logistic-cumulative-privacy-attacks.csv\")\n",
    "            :original-model-description (str \"workspace/\" dataset-label \"/original-model-description.edn\")\n",
    "            :original-probability-file (str \"workspace/\" dataset-label \"/original-AEL.csv\")\n",
    "            :masked-model-file (str \"workspace/\" dataset-label \"/masked-model-description.edn\")\n",
    "            :masked-probability-file (str \"workspace/\" dataset-label \"/masked-AEL.csv\")\n",
    "            :final-bp-file (str \"workspace/\" dataset-label \"/final-breach-probabilities.csv\")\n",
    "            :temp-bp-file (str \"workspace/\" dataset-label \"/temp-bp.edn\")\n",
    "            :maximum-fn-value 1  ;[1]\n",
    "            ;:growth-rate-k [0.0015 0.003 0.006 0.0125 0.025 0.05 0.1] ;0.0015 0.003 0.006 0.0125 0.025 0.05 0.1\n",
    "            :growth-rate-k-initial 0.005 ; will be run for different k values upto 0.1 with tilda= 0.002 \n",
    "            :cumulative-noise-sigmas cumulative-noise-sigmas\n",
    "            :cycle-sizes cycle-sizes\n",
    "            :epsilon epsilons\n",
    "            :attack-strategies [:a-rp :a-rpcn :a-rpcn-1]\n",
    "            ;;:cycle-size-upper-bound (load-data (str \"workspace/\" dataset-label \"/previous-upper-bound.csv\"))\n",
    "            ;;:cycle-size-upper-bound previous-ub\n",
    "            ;;:previous-AUC (load-data (str \"workspace/\" dataset-label \"/previous-AUC.csv\")) \n",
    "            ;;:pre-AUC previous-AUC\n",
    "            ;:bandwidth initial-f-value\n",
    "            :previous-AUC-file-to-update (str \"workspace/\" dataset-label \"/previous-AUC.csv\")\n",
    "            :previous-upper-bound-file-to-update(str \"workspace/\" dataset-label \"/previous-upper-bound.csv\")\n",
    "            ;;:flat-record-length 200  ;;indicates the length of the flat period of the cycle according to the logistic function. depend on the cycle size\n",
    "            }\n",
    "    )\n",
    ")\n",
    "\n"
   ]
  },
  {
   "cell_type": "markdown",
   "metadata": {},
   "source": [
    "## Run Experiments and Write Results (AEL & BP) to Files"
   ]
  },
  {
   "cell_type": "code",
   "execution_count": 4,
   "metadata": {
    "scrolled": true
   },
   "outputs": [
    {
     "name": "stdout",
     "output_type": "stream",
     "text": [
      "Starting: privacy-evaluation -pf8 -ps1.0 -cs0.0017616412765085574 -tr0 -cz2000 -krc4 -krr1 -ac566 -krrp:middle -gr0.005\n"
     ]
    },
    {
     "name": "stderr",
     "output_type": "stream",
     "text": [
      "Mar 31, 2021 3:32:59 AM com.github.fommil.jni.JniLoader liberalLoad\n",
      "INFO: successfully loaded /tmp/jniloader4661626531969301095netlib-native_system-linux-x86_64.so\n"
     ]
    },
    {
     "name": "stdout",
     "output_type": "stream",
     "text": [
      "Growth Rate =  0.005\n",
      "Attacks were performed\n",
      "Breach probability was calculated\n",
      "Written into the file\n",
      "\"Elapsed time: 444037.1703 msecs\"\n",
      "Starting: privacy-evaluation -pf8 -ps1.0 -cs0.0017616412765085574 -tr0 -cz2000 -krc4 -krr1 -ac566 -krrp:middle -gr0.009\n",
      "Growth Rate =  0.009\n",
      "Attacks were performed\n",
      "Breach probability was calculated\n",
      "Written into the file\n",
      "\"Elapsed time: 462844.8899 msecs\"\n",
      "Starting: privacy-evaluation -pf8 -ps1.0 -cs0.0017616412765085574 -tr0 -cz2000 -krc4 -krr1 -ac566 -krrp:middle -gr0.013\n",
      "Growth Rate =  0.013\n",
      "Attacks were performed\n",
      "Breach probability was calculated\n",
      "Written into the file\n",
      "\"Elapsed time: 467776.2823 msecs\"\n",
      "Starting: privacy-evaluation -pf8 -ps1.0 -cs0.0017616412765085574 -tr0 -cz2000 -krc4 -krr1 -ac566 -krrp:middle -gr0.017\n",
      "Growth Rate =  0.017\n",
      "Attacks were performed\n",
      "Breach probability was calculated\n",
      "Written into the file\n",
      "\"Elapsed time: 493340.5067 msecs\"\n",
      "Starting: privacy-evaluation -pf8 -ps1.0 -cs0.0017616412765085574 -tr0 -cz2000 -krc4 -krr1 -ac566 -krrp:middle -gr0.021\n",
      "Growth Rate =  0.021\n",
      "Attacks were performed\n",
      "Breach probability was calculated\n",
      "Written into the file\n",
      "\"Elapsed time: 464122.6678 msecs\"\n",
      "Starting: privacy-evaluation -pf8 -ps1.0 -cs0.0017616412765085574 -tr0 -cz2000 -krc4 -krr1 -ac566 -krrp:middle -gr0.025\n",
      "Growth Rate =  0.025\n",
      "Attacks were performed\n",
      "Breach probability was calculated\n",
      "Written into the file\n",
      "\"Elapsed time: 476115.5267 msecs\"\n",
      "Starting: privacy-evaluation -pf8 -ps1.0 -cs0.0017616412765085574 -tr0 -cz2000 -krc4 -krr1 -ac566 -krrp:middle -gr0.029\n",
      "Growth Rate =  0.029\n",
      "Attacks were performed\n",
      "Breach probability was calculated\n",
      "Written into the file\n",
      "\"Elapsed time: 468768.8295 msecs\"\n",
      "Starting: privacy-evaluation -pf8 -ps1.0 -cs0.0017616412765085574 -tr0 -cz2000 -krc4 -krr1 -ac566 -krrp:middle -gr0.033\n",
      "Growth Rate =  0.033\n",
      "Attacks were performed\n",
      "Breach probability was calculated\n",
      "Written into the file\n",
      "\"Elapsed time: 453198.0922 msecs\"\n",
      "Starting: privacy-evaluation -pf8 -ps1.0 -cs0.0017616412765085574 -tr0 -cz2000 -krc4 -krr1 -ac566 -krrp:middle -gr0.037\n",
      "Growth Rate =  0.037\n",
      "Attacks were performed\n",
      "Breach probability was calculated\n",
      "Written into the file\n",
      "\"Elapsed time: 479084.0233 msecs\"\n",
      "Starting: privacy-evaluation -pf8 -ps1.0 -cs0.0017616412765085574 -tr0 -cz2000 -krc4 -krr1 -ac566 -krrp:middle -gr0.041\n",
      "Growth Rate =  0.041\n",
      "Attacks were performed\n",
      "Breach probability was calculated\n",
      "Written into the file\n",
      "\"Elapsed time: 462227.2767 msecs\"\n",
      "Starting: privacy-evaluation -pf8 -ps1.0 -cs0.0017616412765085574 -tr0 -cz2000 -krc4 -krr1 -ac566 -krrp:middle -gr0.045\n",
      "Growth Rate =  0.045\n",
      "Attacks were performed\n",
      "Breach probability was calculated\n",
      "Written into the file\n",
      "\"Elapsed time: 467437.4218 msecs\"\n",
      "Starting: privacy-evaluation -pf8 -ps1.0 -cs0.0017616412765085574 -tr0 -cz2000 -krc4 -krr1 -ac566 -krrp:middle -gr0.049\n",
      "Growth Rate =  0.049\n",
      "Attacks were performed\n",
      "Breach probability was calculated\n",
      "Written into the file\n",
      "\"Elapsed time: 456697.2086 msecs\"\n",
      "Starting: privacy-evaluation -pf8 -ps1.0 -cs0.0017616412765085574 -tr0 -cz2000 -krc4 -krr1 -ac566 -krrp:middle -gr0.053\n",
      "Growth Rate =  0.053\n",
      "Attacks were performed\n",
      "Breach probability was calculated\n",
      "Written into the file\n",
      "\"Elapsed time: 484857.1458 msecs\"\n",
      "Starting: privacy-evaluation -pf8 -ps1.0 -cs0.0017616412765085574 -tr0 -cz2000 -krc4 -krr1 -ac566 -krrp:middle -gr0.057\n",
      "Growth Rate =  0.057\n",
      "Attacks were performed\n",
      "Breach probability was calculated\n",
      "Written into the file\n",
      "\"Elapsed time: 466536.8844 msecs\"\n",
      "Starting: privacy-evaluation -pf8 -ps1.0 -cs0.0017616412765085574 -tr0 -cz2000 -krc4 -krr1 -ac566 -krrp:middle -gr0.061\n",
      "Growth Rate =  0.061\n",
      "Attacks were performed\n",
      "Breach probability was calculated\n",
      "Written into the file\n",
      "\"Elapsed time: 449511.3158 msecs\"\n",
      "Starting: privacy-evaluation -pf8 -ps1.0 -cs0.0017616412765085574 -tr0 -cz2000 -krc4 -krr1 -ac566 -krrp:middle -gr0.065\n",
      "Growth Rate =  0.065\n",
      "Attacks were performed\n",
      "Breach probability was calculated\n",
      "Written into the file\n",
      "\"Elapsed time: 452770.7284 msecs\"\n",
      "Starting: privacy-evaluation -pf8 -ps1.0 -cs0.0017616412765085574 -tr0 -cz2000 -krc4 -krr1 -ac566 -krrp:middle -gr0.069\n",
      "Growth Rate =  0.069\n",
      "Attacks were performed\n",
      "Breach probability was calculated\n",
      "Written into the file\n",
      "\"Elapsed time: 450964.7148 msecs\"\n",
      "Starting: privacy-evaluation -pf8 -ps1.0 -cs0.0017616412765085574 -tr0 -cz2000 -krc4 -krr1 -ac566 -krrp:middle -gr0.073\n",
      "Growth Rate =  0.073\n",
      "Attacks were performed\n",
      "Breach probability was calculated\n",
      "Written into the file\n",
      "\"Elapsed time: 445643.2407 msecs\"\n",
      "Starting: privacy-evaluation -pf8 -ps1.0 -cs0.0017616412765085574 -tr0 -cz2000 -krc4 -krr1 -ac566 -krrp:middle -gr0.077\n",
      "Growth Rate =  0.077\n",
      "Attacks were performed\n",
      "Breach probability was calculated\n",
      "Written into the file\n",
      "\"Elapsed time: 453753.7025 msecs\"\n",
      "Starting: privacy-evaluation -pf8 -ps1.0 -cs0.0017616412765085574 -tr0 -cz2000 -krc4 -krr1 -ac566 -krrp:middle -gr0.081\n",
      "Growth Rate =  0.081\n",
      "Attacks were performed\n",
      "Breach probability was calculated\n",
      "Written into the file\n",
      "\"Elapsed time: 447989.3506 msecs\"\n",
      "Starting: privacy-evaluation -pf8 -ps1.0 -cs0.0017616412765085574 -tr0 -cz2000 -krc4 -krr1 -ac566 -krrp:middle -gr0.085\n",
      "Growth Rate =  0.085\n",
      "Attacks were performed\n",
      "Breach probability was calculated\n",
      "Written into the file\n",
      "\"Elapsed time: 441863.1355 msecs\"\n",
      "Starting: privacy-evaluation -pf8 -ps1.0 -cs0.0017616412765085574 -tr0 -cz2000 -krc4 -krr1 -ac566 -krrp:middle -gr0.089\n",
      "Growth Rate =  0.089\n",
      "Attacks were performed\n",
      "Breach probability was calculated\n",
      "Written into the file\n",
      "\"Elapsed time: 440253.4595 msecs\"\n",
      "Starting: privacy-evaluation -pf8 -ps1.0 -cs0.0017616412765085574 -tr0 -cz2000 -krc4 -krr1 -ac566 -krrp:middle -gr0.093\n",
      "Growth Rate =  0.093\n",
      "Attacks were performed\n",
      "Breach probability was calculated\n",
      "Written into the file\n",
      "\"Elapsed time: 446154.5881 msecs\"\n",
      "Starting: privacy-evaluation -pf8 -ps1.0 -cs0.0017616412765085574 -tr0 -cz2000 -krc4 -krr1 -ac566 -krrp:middle -gr0.097\n",
      "Growth Rate =  0.097\n",
      "Attacks were performed\n",
      "Breach probability was calculated\n",
      "Written into the file\n",
      "\"Elapsed time: 466536.3882 msecs\"\n"
     ]
    },
    {
     "data": {
      "text/plain": [
       "null"
      ]
     },
     "execution_count": 4,
     "metadata": {},
     "output_type": "execute_result"
    }
   ],
   "source": [
    "(run-masking-experiments-cycles logistic-cumulative-noise-configuration)"
   ]
  },
  {
   "cell_type": "markdown",
   "metadata": {},
   "source": [
    "## Data Fitting Using Privacy and Accuracy Results"
   ]
  },
  {
   "cell_type": "code",
   "execution_count": 5,
   "metadata": {},
   "outputs": [
    {
     "data": {
      "text/plain": [
       "[null, null, null, null, null, null, null, null]"
      ]
     },
     "execution_count": 5,
     "metadata": {},
     "output_type": "execute_result"
    }
   ],
   "source": [
    "(def accuracy-file (str \"workspace/\" dataset-label \"/masked-AEL.csv\"))\n",
    "(def user-threshold-testing [0.6 0.7 0.75 0.8 0.85 0.9 0.95 0.97])\n",
    "  ;;[0.5 0.55 0.6 0.65 0.7 0.75 0.8 0.85 0.9 0.95] 0.85 0.9 0.92 0.95 0.97\n",
    "(def datafitting-results-file (str \"workspace/\" dataset-label \"/results-data-fitting.csv\"))\n",
    "\n",
    "\n",
    "(kernel-regression-using-fastmath (:final-bp-file logistic-cumulative-noise-configuration) accuracy-file user-threshold-testing datafitting-results-file (:output-file-privacy-auc logistic-cumulative-noise-configuration))\n"
   ]
  },
  {
   "cell_type": "code",
   "execution_count": 13,
   "metadata": {},
   "outputs": [
    {
     "data": {
      "text/plain": [
       "null"
      ]
     },
     "execution_count": 13,
     "metadata": {},
     "output_type": "execute_result"
    }
   ],
   "source": [
    "(def accuracy-file (str \"workspace/\" dataset-label \"/masked-AEL.csv\"))\n",
    "(def final-AEL-file (str \"workspace/\" dataset-label \"/final-ael.csv\"))\n",
    "(def privacy-threshold-by-user 0.995) ;;0.75, 0.8, 0.85, 0.9, 0.95, 0.97 0.98 0.985 0.99 0.995 should run for all these values\n",
    "(k-AEL-final-from-selected-kernel (:final-bp-file logistic-cumulative-noise-configuration) accuracy-file (:output-file-privacy-auc logistic-cumulative-noise-configuration) privacy-threshold-by-user final-AEL-file)"
   ]
  },
  {
   "cell_type": "markdown",
   "metadata": {},
   "source": [
    "## Validate Experiments"
   ]
  },
  {
   "cell_type": "code",
   "execution_count": 14,
   "metadata": {
    "scrolled": true
   },
   "outputs": [
    {
     "name": "stdout",
     "output_type": "stream",
     "text": [
      "Starting: privacy-evaluation -pf8 -ps1.0 -cs0.0017616412765085574 -tr0 -cz2000 -krc4 -krr1 -ac566 -krrp:middle -gr0.0668\n",
      "Growth Rate =  0.0668\n",
      "Attacks were performed\n",
      "Breach probability was calculated\n",
      "Written into the file\n",
      "\"Elapsed time: 459260.1269 msecs\"\n",
      "Starting: privacy-evaluation -pf8 -ps1.0 -cs0.0017616412765085574 -tr0 -cz2000 -krc4 -krr1 -ac566 -krrp:middle -gr0.0192\n",
      "Growth Rate =  0.0192\n",
      "Attacks were performed\n",
      "Breach probability was calculated\n",
      "Written into the file\n",
      "\"Elapsed time: 476766.271 msecs\"\n",
      "Starting: privacy-evaluation -pf8 -ps1.0 -cs0.0017616412765085574 -tr0 -cz2000 -krc4 -krr1 -ac566 -krrp:middle -gr0.0577\n",
      "Growth Rate =  0.0577\n",
      "Attacks were performed\n",
      "Breach probability was calculated\n",
      "Written into the file\n",
      "\"Elapsed time: 477471.1921 msecs\"\n",
      "Starting: privacy-evaluation -pf8 -ps1.0 -cs0.0017616412765085574 -tr0 -cz2000 -krc4 -krr1 -ac566 -krrp:middle -gr0.1211\n",
      "Growth Rate =  0.1211\n",
      "Attacks were performed\n",
      "Breach probability was calculated\n",
      "Written into the file\n",
      "\"Elapsed time: 492871.9589 msecs\"\n",
      "Starting: privacy-evaluation -pf8 -ps1.0 -cs0.0017616412765085574 -tr0 -cz2000 -krc4 -krr1 -ac566 -krrp:middle -gr0.071\n",
      "Growth Rate =  0.071\n",
      "Attacks were performed\n",
      "Breach probability was calculated\n",
      "Written into the file\n",
      "\"Elapsed time: 464306.1332 msecs\"\n",
      "Starting: privacy-evaluation -pf8 -ps1.0 -cs0.0017616412765085574 -tr0 -cz2000 -krc4 -krr1 -ac566 -krrp:middle -gr0.0534\n",
      "Growth Rate =  0.0534\n",
      "Attacks were performed\n",
      "Breach probability was calculated\n",
      "Written into the file\n",
      "\"Elapsed time: 484202.5222 msecs\"\n",
      "Starting: privacy-evaluation -pf8 -ps1.0 -cs0.0017616412765085574 -tr0 -cz2000 -krc4 -krr1 -ac566 -krrp:middle -gr0.0466\n",
      "Growth Rate =  0.0466\n",
      "Attacks were performed\n",
      "Breach probability was calculated\n",
      "Written into the file\n",
      "\"Elapsed time: 474884.3501 msecs\"\n",
      "Starting: privacy-evaluation -pf8 -ps1.0 -cs0.0017616412765085574 -tr0 -cz2000 -krc4 -krr1 -ac566 -krrp:middle -gr0.041\n",
      "Growth Rate =  0.041\n",
      "Attacks were performed\n",
      "Breach probability was calculated\n",
      "Written into the file\n",
      "\"Elapsed time: 459720.9938 msecs\"\n",
      "Starting: privacy-evaluation -pf8 -ps1.0 -cs0.0017616412765085574 -tr0 -cz2000 -krc4 -krr1 -ac566 -krrp:middle -gr0.0329\n",
      "Growth Rate =  0.0329\n",
      "Attacks were performed\n",
      "Breach probability was calculated\n",
      "Written into the file\n",
      "\"Elapsed time: 474338.9357 msecs\"\n",
      "Starting: privacy-evaluation -pf8 -ps1.0 -cs0.0017616412765085574 -tr0 -cz2000 -krc4 -krr1 -ac566 -krrp:middle -gr0.0218\n",
      "Growth Rate =  0.0218\n",
      "Attacks were performed\n",
      "Breach probability was calculated\n",
      "Written into the file\n",
      "\"Elapsed time: 465231.1146 msecs\"\n"
     ]
    },
    {
     "data": {
      "text/plain": [
       "[null, null, null, null, null, null, null, null, null, null]"
      ]
     },
     "execution_count": 14,
     "metadata": {},
     "output_type": "execute_result"
    }
   ],
   "source": [
    ";;; ;;For validating data fitting results run the experiments again with k-values received after data fitting\n",
    "(def logistic-cumulative-noise-validation\n",
    "    (merge base-configuration\n",
    "           {:output-file (str \"workspace/\" dataset-label \"/validation/logistic-cumulative-output.edn\")\n",
    "            :output-file-privacy-auc  (str \"workspace/\" dataset-label \"/validation/logistic-cumulative-privacy-auc.csv\")\n",
    "            :attck-results-file  (str \"workspace/\" dataset-label \"/validation/attack-results.edn\")\n",
    "            :output-file-privacy-attacks  (str \"workspace/\" dataset-label \"/validation/logistic-cumulative-privacy-attacks.csv\")\n",
    "            :original-model-description (str \"workspace/\" dataset-label \"/validation/original-model-description.edn\")\n",
    "            :original-probability-file (str \"workspace/\" dataset-label \"/validation/original-AEL.csv\")\n",
    "            :masked-model-file (str \"workspace/\" dataset-label \"/validation/masked-model-description.edn\")\n",
    "            :masked-probability-file (str \"workspace/\" dataset-label \"/validation/masked-AEL.csv\")\n",
    "            :final-bp-file (str \"workspace/\" dataset-label \"/validation/final-breach-probabilities.csv\")\n",
    "            :temp-bp-file (str \"workspace/\" dataset-label \"/validation/temp-bp.edn\")\n",
    "            :maximum-fn-value 1  ;[1]\n",
    "            :growth-rate-k-initial [0.0668 0.0192 0.0577 0.1211 0.0710 0.0534 0.0466 0.0410 0.0329 0.0218] ;\n",
    "                 ;k from bp- Wave 0.6598 0.5911 0.2228 0.2052 0.2371 0.0628 0.0506 0.0249 0.0986 0.4607\n",
    "                ;k from bp- Rational  0.0668 0.0192 0.0577 0.1211 0.0710 0.0534 0.0466 0.0410 0.0329 0.0218\n",
    "            :cumulative-noise-sigmas cumulative-noise-sigmas\n",
    "            :cycle-sizes cycle-sizes\n",
    "            :epsilon epsilons\n",
    "            :attack-strategies [:a-rp :a-rpcn :a-rpcn-1]\n",
    "            :previous-AUC-file-to-update (str \"workspace/\" dataset-label \"/validation/previous-AUC.csv\")\n",
    "            :previous-upper-bound-file-to-update(str \"workspace/\" dataset-label \"/validation/previous-upper-bound.csv\")\n",
    "             }\n",
    "    )\n",
    ")\n",
    "(validate-datafitting-results logistic-cumulative-noise-validation)"
   ]
  },
  {
   "cell_type": "code",
   "execution_count": null,
   "metadata": {},
   "outputs": [],
   "source": []
  },
  {
   "cell_type": "code",
   "execution_count": 7,
   "metadata": {},
   "outputs": [
    {
     "ename": "java.lang.RuntimeException",
     "evalue": " Unable to resolve symbol",
     "output_type": "error",
     "traceback": [
      "\u001b[1;31mjava.lang.RuntimeException: Unable to resolve symbol: results-cumulative-logistic in this context\u001b[0;0m",
      "\u001b[1;31m\tat clojure.lang.Util.runtimeException(Util.java:221)\u001b[0;0m",
      "\u001b[1;31m\tat clojure.lang.Compiler.resolveIn(Compiler.java:7299)\u001b[0;0m",
      "\u001b[1;31m\tat clojure.lang.Compiler.resolve(Compiler.java:7243)\u001b[0;0m",
      "\u001b[1;31m\tat clojure.lang.Compiler.analyzeSymbol(Compiler.java:7204)\u001b[0;0m",
      "\u001b[1;31m\tat clojure.lang.Compiler.analyze(Compiler.java:6752)\u001b[0;0m",
      "\u001b[1;31m\tat clojure.lang.Compiler.analyze(Compiler.java:6729)\u001b[0;0m",
      "\u001b[1;31m\tat clojure.lang.Compiler$HostExpr$Parser.parse(Compiler.java:1020)\u001b[0;0m",
      "\u001b[1;31m\tat clojure.lang.Compiler.analyzeSeq(Compiler.java:7003)\u001b[0;0m",
      "\u001b[1;31m\tat clojure.lang.Compiler.analyze(Compiler.java:6773)\u001b[0;0m",
      "\u001b[1;31m\tat clojure.lang.Compiler.analyze(Compiler.java:6729)\u001b[0;0m",
      "\u001b[1;31m\tat clojure.lang.Compiler.analyzeSeq(Compiler.java:6998)\u001b[0;0m",
      "\u001b[1;31m\tat clojure.lang.Compiler.analyze(Compiler.java:6773)\u001b[0;0m",
      "\u001b[1;31m\tat clojure.lang.Compiler.access$300(Compiler.java:38)\u001b[0;0m",
      "\u001b[1;31m\tat clojure.lang.Compiler$DefExpr$Parser.parse(Compiler.java:595)\u001b[0;0m",
      "\u001b[1;31m\tat clojure.lang.Compiler.analyzeSeq(Compiler.java:7003)\u001b[0;0m",
      "\u001b[1;31m\tat clojure.lang.Compiler.analyze(Compiler.java:6773)\u001b[0;0m",
      "\u001b[1;31m\tat clojure.lang.Compiler.analyze(Compiler.java:6729)\u001b[0;0m",
      "\u001b[1;31m\tat clojure.lang.Compiler.eval(Compiler.java:7066)\u001b[0;0m",
      "\u001b[1;31m\tat clojure.lang.Compiler.load(Compiler.java:7514)\u001b[0;0m",
      "\u001b[1;31m\tat clojure.lang.Compiler.load(Compiler.java:7461)\u001b[0;0m",
      "\u001b[1;31m\tat clojure.core$load_reader.invokeStatic(core.clj:4053)\u001b[0;0m",
      "\u001b[1;31m\tat clojure.core$load_string.invokeStatic(core.clj:4055)\u001b[0;0m",
      "\u001b[1;31m\tat clojure.core$load_string.invoke(core.clj:4055)\u001b[0;0m",
      "\u001b[1;31m\tat beaker_clojure_shell_93df93cb_85ac_4253_bcb6_c9a365572966$run_str_93df93cb_85ac_4253_bcb6_c9a365572966.invokeStatic(Unknown Source)\u001b[0;0m",
      "\u001b[1;31m\tat beaker_clojure_shell_93df93cb_85ac_4253_bcb6_c9a365572966$run_str_93df93cb_85ac_4253_bcb6_c9a365572966.invoke(Unknown Source)\u001b[0;0m",
      "\u001b[1;31m\tat clojure.lang.Var.invoke(Var.java:381)\u001b[0;0m",
      "\u001b[0;31m\tat com.twosigma.beakerx.clojure.evaluator.ClojureEvaluator.runCode(ClojureEvaluator.java:168)\u001b[0;0m",
      "\u001b[0;31m\tat com.twosigma.beakerx.clojure.evaluator.ClojureCodeRunner.call(ClojureCodeRunner.java:47)\u001b[0;0m",
      "\u001b[0;31m\tat com.twosigma.beakerx.clojure.evaluator.ClojureCodeRunner.call(ClojureCodeRunner.java:28)\u001b[0;0m",
      "\u001b[0;31m\tat java.util.concurrent.FutureTask.run(FutureTask.java:266)\u001b[0;0m",
      "\u001b[0;31m\tat java.lang.Thread.run(Thread.java:745)\u001b[0;0m"
     ]
    }
   ],
   "source": [
    ";;Accuracy per sample for logistic noise\n",
    "(def accuracy-cycles-outputfile-logistic (str \"workspace/\" dataset-label \"/logistic-accuracy-per-cycle.edn\"))\n",
    "(def details-outputfile-logistic (str \"workspace/\" dataset-label \"/logistic-accuracy-details.edn\"))\n",
    "(def full-cycle 1000)\n",
    "(def access-result-list-logistic (nth results-cumulative-logistic 0)) ;;nth is used to access elements of lists\n",
    " (def acc-after-masking-logistic (-> access-result-list-logistic :accuracy :hdt :raw-results )) ;;getting only accuracy results\n",
    " \n",
    "\n",
    "       ;;(accuracy-updating-cycles acc-after-masking-logistic accuracy-cycles-outputfile-logistic record-count full-cycle details-outputfile-logistic)"
   ]
  },
  {
   "cell_type": "code",
   "execution_count": 8,
   "metadata": {},
   "outputs": [
    {
     "ename": "java.io.FileNotFoundException",
     "evalue": " workspace/electricity/logistic-accuracy-details.edn (No such file or directory)",
     "output_type": "error",
     "traceback": [
      "\u001b[1;31mjava.io.FileNotFoundException: workspace/electricity/logistic-accuracy-details.edn (No such file or directory)\u001b[0;0m",
      "\u001b[1;31m\tat java.io.FileInputStream.open0(Native Method)\u001b[0;0m",
      "\u001b[1;31m\tat java.io.FileInputStream.open(FileInputStream.java:195)\u001b[0;0m",
      "\u001b[1;31m\tat java.io.FileInputStream.<init>(FileInputStream.java:138)\u001b[0;0m",
      "\u001b[1;31m\tat clojure.java.io$fn__10968.invokeStatic(io.clj:229)\u001b[0;0m",
      "\u001b[1;31m\tat clojure.java.io$fn__10968.invoke(io.clj:229)\u001b[0;0m",
      "\u001b[1;31m\tat clojure.java.io$fn__10881$G__10874__10888.invoke(io.clj:69)\u001b[0;0m",
      "\u001b[1;31m\tat clojure.java.io$fn__10980.invokeStatic(io.clj:258)\u001b[0;0m",
      "\u001b[1;31m\tat clojure.java.io$fn__10980.invoke(io.clj:254)\u001b[0;0m",
      "\u001b[1;31m\tat clojure.java.io$fn__10881$G__10874__10888.invoke(io.clj:69)\u001b[0;0m",
      "\u001b[1;31m\tat clojure.java.io$fn__10942.invokeStatic(io.clj:165)\u001b[0;0m",
      "\u001b[1;31m\tat clojure.java.io$fn__10942.invoke(io.clj:165)\u001b[0;0m",
      "\u001b[1;31m\tat clojure.java.io$fn__10894$G__10870__10901.invoke(io.clj:69)\u001b[0;0m",
      "\u001b[1;31m\tat clojure.java.io$reader.invokeStatic(io.clj:102)\u001b[0;0m",
      "\u001b[1;31m\tat clojure.java.io$reader.doInvoke(io.clj:86)\u001b[0;0m",
      "\u001b[1;31m\tat clojure.lang.RestFn.invoke(RestFn.java:410)\u001b[0;0m",
      "\u001b[1;31m\tat jupyter_helpers$load_data.invokeStatic(jupyter_helpers.clj:90)\u001b[0;0m",
      "\u001b[1;31m\tat jupyter_helpers$load_data.invoke(jupyter_helpers.clj:88)\u001b[0;0m",
      "\u001b[1;31m\tat clojure.lang.AFn.applyToHelper(AFn.java:154)\u001b[0;0m",
      "\u001b[1;31m\tat clojure.lang.AFn.applyTo(AFn.java:144)\u001b[0;0m",
      "\u001b[1;31m\tat clojure.lang.Compiler$InvokeExpr.eval(Compiler.java:3695)\u001b[0;0m",
      "\u001b[1;31m\tat clojure.lang.Compiler$DefExpr.eval(Compiler.java:457)\u001b[0;0m",
      "\u001b[1;31m\tat clojure.lang.Compiler.eval(Compiler.java:7067)\u001b[0;0m",
      "\u001b[1;31m\tat clojure.lang.Compiler.load(Compiler.java:7514)\u001b[0;0m",
      "\u001b[1;31m\tat clojure.lang.Compiler.load(Compiler.java:7461)\u001b[0;0m",
      "\u001b[1;31m\tat clojure.core$load_reader.invokeStatic(core.clj:4053)\u001b[0;0m",
      "\u001b[1;31m\tat clojure.core$load_string.invokeStatic(core.clj:4055)\u001b[0;0m",
      "\u001b[1;31m\tat clojure.core$load_string.invoke(core.clj:4055)\u001b[0;0m",
      "\u001b[1;31m\tat beaker_clojure_shell_93df93cb_85ac_4253_bcb6_c9a365572966$run_str_93df93cb_85ac_4253_bcb6_c9a365572966.invokeStatic(Unknown Source)\u001b[0;0m",
      "\u001b[1;31m\tat beaker_clojure_shell_93df93cb_85ac_4253_bcb6_c9a365572966$run_str_93df93cb_85ac_4253_bcb6_c9a365572966.invoke(Unknown Source)\u001b[0;0m",
      "\u001b[1;31m\tat clojure.lang.Var.invoke(Var.java:381)\u001b[0;0m",
      "\u001b[0;31m\tat com.twosigma.beakerx.clojure.evaluator.ClojureEvaluator.runCode(ClojureEvaluator.java:168)\u001b[0;0m",
      "\u001b[0;31m\tat com.twosigma.beakerx.clojure.evaluator.ClojureCodeRunner.call(ClojureCodeRunner.java:47)\u001b[0;0m",
      "\u001b[0;31m\tat com.twosigma.beakerx.clojure.evaluator.ClojureCodeRunner.call(ClojureCodeRunner.java:28)\u001b[0;0m",
      "\u001b[0;31m\tat java.util.concurrent.FutureTask.run(FutureTask.java:266)\u001b[0;0m",
      "\u001b[0;31m\tat java.lang.Thread.run(Thread.java:745)\u001b[0;0m"
     ]
    }
   ],
   "source": [
    ";;Average Accuracy for the attacked cycle period (Starting flat period of the logistic cycle)\n",
    "(def accuracy-details-file (load-data (str \"workspace/\" dataset-label \"/logistic-accuracy-details.edn\"))) ;;reading accuracy details from previously written file\n",
    "(def accuracy-for-attcked-period-file (str \"workspace/\" dataset-label \"/logistic-accuracy-attacked-period.csv\")) ;; write file of relavant accuracy details\n",
    "(def accuracy-details  (-> accuracy-details-file :sample-accuracy ))  \n",
    "(def full-cycle 1000)\n",
    "(def flat-record-length (:flat-record-length logistic-cumulative-noise-configuration))\n",
    "       (accuracy-for-flat-areas accuracy-details full-cycle flat-record-length record-count accuracy-for-attcked-period-file)\n"
   ]
  },
  {
   "cell_type": "code",
   "execution_count": 4,
   "metadata": {},
   "outputs": [
    {
     "ename": "java.lang.RuntimeException",
     "evalue": " Unable to resolve symbol",
     "output_type": "error",
     "traceback": [
      "\u001b[1;31mjava.lang.RuntimeException: Unable to resolve symbol: load-data in this context\u001b[0;0m",
      "\u001b[1;31m\tat clojure.lang.Util.runtimeException(Util.java:221)\u001b[0;0m",
      "\u001b[1;31m\tat clojure.lang.Compiler.resolveIn(Compiler.java:7299)\u001b[0;0m",
      "\u001b[1;31m\tat clojure.lang.Compiler.resolve(Compiler.java:7243)\u001b[0;0m",
      "\u001b[1;31m\tat clojure.lang.Compiler.analyzeSymbol(Compiler.java:7204)\u001b[0;0m",
      "\u001b[1;31m\tat clojure.lang.Compiler.analyze(Compiler.java:6752)\u001b[0;0m",
      "\u001b[1;31m\tat clojure.lang.Compiler.analyze(Compiler.java:6729)\u001b[0;0m",
      "\u001b[1;31m\tat clojure.lang.Compiler$InvokeExpr.parse(Compiler.java:3813)\u001b[0;0m",
      "\u001b[1;31m\tat clojure.lang.Compiler.analyzeSeq(Compiler.java:7005)\u001b[0;0m",
      "\u001b[1;31m\tat clojure.lang.Compiler.analyze(Compiler.java:6773)\u001b[0;0m",
      "\u001b[1;31m\tat clojure.lang.Compiler.access$300(Compiler.java:38)\u001b[0;0m",
      "\u001b[1;31m\tat clojure.lang.Compiler$DefExpr$Parser.parse(Compiler.java:595)\u001b[0;0m",
      "\u001b[1;31m\tat clojure.lang.Compiler.analyzeSeq(Compiler.java:7003)\u001b[0;0m",
      "\u001b[1;31m\tat clojure.lang.Compiler.analyze(Compiler.java:6773)\u001b[0;0m",
      "\u001b[1;31m\tat clojure.lang.Compiler.analyze(Compiler.java:6729)\u001b[0;0m",
      "\u001b[1;31m\tat clojure.lang.Compiler.eval(Compiler.java:7066)\u001b[0;0m",
      "\u001b[1;31m\tat clojure.lang.Compiler.load(Compiler.java:7514)\u001b[0;0m",
      "\u001b[1;31m\tat clojure.lang.Compiler.load(Compiler.java:7461)\u001b[0;0m",
      "\u001b[1;31m\tat clojure.core$load_reader.invokeStatic(core.clj:4053)\u001b[0;0m",
      "\u001b[1;31m\tat clojure.core$load_string.invokeStatic(core.clj:4055)\u001b[0;0m",
      "\u001b[1;31m\tat clojure.core$load_string.invoke(core.clj:4055)\u001b[0;0m",
      "\u001b[1;31m\tat beaker_clojure_shell_1f27bf93_8151_41dd_894e_01e1bab736a9$run_str_1f27bf93_8151_41dd_894e_01e1bab736a9.invokeStatic(Unknown Source)\u001b[0;0m",
      "\u001b[1;31m\tat beaker_clojure_shell_1f27bf93_8151_41dd_894e_01e1bab736a9$run_str_1f27bf93_8151_41dd_894e_01e1bab736a9.invoke(Unknown Source)\u001b[0;0m",
      "\u001b[1;31m\tat clojure.lang.Var.invoke(Var.java:381)\u001b[0;0m",
      "\u001b[0;31m\tat com.twosigma.beakerx.clojure.evaluator.ClojureEvaluator.runCode(ClojureEvaluator.java:168)\u001b[0;0m",
      "\u001b[0;31m\tat com.twosigma.beakerx.clojure.evaluator.ClojureCodeRunner.call(ClojureCodeRunner.java:47)\u001b[0;0m",
      "\u001b[0;31m\tat com.twosigma.beakerx.clojure.evaluator.ClojureCodeRunner.call(ClojureCodeRunner.java:28)\u001b[0;0m",
      "\u001b[0;31m\tat java.util.concurrent.FutureTask.run(FutureTask.java:266)\u001b[0;0m",
      "\u001b[0;31m\tat java.lang.Thread.run(Thread.java:745)\u001b[0;0m"
     ]
    }
   ],
   "source": [
    "(def get-breach-probabilty (load-data (str \"workspace/\" dataset-label \"/logistic-attacks-per-cycle.edn\"))) ;;get the final breach probability written in the file\n",
    "(save-data-append-newline (str \"workspace/\" dataset-label \"/logistic-breach-probability.csv\") get-breach-probabilty) ;;append the value to another file for the operations after 100 runs"
   ]
  },
  {
   "cell_type": "markdown",
   "metadata": {},
   "source": [
    "## Comparison of Attack Strategies"
   ]
  },
  {
   "cell_type": "code",
   "execution_count": 18,
   "metadata": {
    "scrolled": false
   },
   "outputs": [
    {
     "ename": "java.lang.RuntimeException",
     "evalue": " Unable to resolve symbol",
     "output_type": "error",
     "traceback": [
      "\u001b[1;31mjava.lang.RuntimeException: Unable to resolve symbol: display-html in this context\u001b[0;0m",
      "\u001b[1;31m\tat clojure.lang.Util.runtimeException(Util.java:221)\u001b[0;0m",
      "\u001b[1;31m\tat clojure.lang.Compiler.resolveIn(Compiler.java:7299)\u001b[0;0m",
      "\u001b[1;31m\tat clojure.lang.Compiler.resolve(Compiler.java:7243)\u001b[0;0m",
      "\u001b[1;31m\tat clojure.lang.Compiler.analyzeSymbol(Compiler.java:7204)\u001b[0;0m",
      "\u001b[1;31m\tat clojure.lang.Compiler.analyze(Compiler.java:6752)\u001b[0;0m",
      "\u001b[1;31m\tat clojure.lang.Compiler.analyze(Compiler.java:6729)\u001b[0;0m",
      "\u001b[1;31m\tat clojure.lang.Compiler$InvokeExpr.parse(Compiler.java:3813)\u001b[0;0m",
      "\u001b[1;31m\tat clojure.lang.Compiler.analyzeSeq(Compiler.java:7005)\u001b[0;0m",
      "\u001b[1;31m\tat clojure.lang.Compiler.analyze(Compiler.java:6773)\u001b[0;0m",
      "\u001b[1;31m\tat clojure.lang.Compiler.analyze(Compiler.java:6729)\u001b[0;0m",
      "\u001b[1;31m\tat clojure.lang.Compiler$BodyExpr$Parser.parse(Compiler.java:6100)\u001b[0;0m",
      "\u001b[1;31m\tat clojure.lang.Compiler.analyzeSeq(Compiler.java:7003)\u001b[0;0m",
      "\u001b[1;31m\tat clojure.lang.Compiler.analyze(Compiler.java:6773)\u001b[0;0m",
      "\u001b[1;31m\tat clojure.lang.Compiler.analyze(Compiler.java:6729)\u001b[0;0m",
      "\u001b[1;31m\tat clojure.lang.Compiler$BodyExpr$Parser.parse(Compiler.java:6100)\u001b[0;0m",
      "\u001b[1;31m\tat clojure.lang.Compiler$LetExpr$Parser.parse(Compiler.java:6420)\u001b[0;0m",
      "\u001b[1;31m\tat clojure.lang.Compiler.analyzeSeq(Compiler.java:7003)\u001b[0;0m",
      "\u001b[1;31m\tat clojure.lang.Compiler.analyze(Compiler.java:6773)\u001b[0;0m",
      "\u001b[1;31m\tat clojure.lang.Compiler.analyzeSeq(Compiler.java:6991)\u001b[0;0m",
      "\u001b[1;31m\tat clojure.lang.Compiler.analyze(Compiler.java:6773)\u001b[0;0m",
      "\u001b[1;31m\tat clojure.lang.Compiler.analyze(Compiler.java:6729)\u001b[0;0m",
      "\u001b[1;31m\tat clojure.lang.Compiler$IfExpr$Parser.parse(Compiler.java:2822)\u001b[0;0m",
      "\u001b[1;31m\tat clojure.lang.Compiler.analyzeSeq(Compiler.java:7003)\u001b[0;0m",
      "\u001b[1;31m\tat clojure.lang.Compiler.analyze(Compiler.java:6773)\u001b[0;0m",
      "\u001b[1;31m\tat clojure.lang.Compiler.analyze(Compiler.java:6729)\u001b[0;0m",
      "\u001b[1;31m\tat clojure.lang.Compiler$BodyExpr$Parser.parse(Compiler.java:6100)\u001b[0;0m",
      "\u001b[1;31m\tat clojure.lang.Compiler$LetExpr$Parser.parse(Compiler.java:6420)\u001b[0;0m",
      "\u001b[1;31m\tat clojure.lang.Compiler.analyzeSeq(Compiler.java:7003)\u001b[0;0m",
      "\u001b[1;31m\tat clojure.lang.Compiler.analyze(Compiler.java:6773)\u001b[0;0m",
      "\u001b[1;31m\tat clojure.lang.Compiler.analyzeSeq(Compiler.java:6991)\u001b[0;0m",
      "\u001b[1;31m\tat clojure.lang.Compiler.analyze(Compiler.java:6773)\u001b[0;0m",
      "\u001b[1;31m\tat clojure.lang.Compiler.analyze(Compiler.java:6729)\u001b[0;0m",
      "\u001b[1;31m\tat clojure.lang.Compiler$BodyExpr$Parser.parse(Compiler.java:6100)\u001b[0;0m",
      "\u001b[1;31m\tat clojure.lang.Compiler$LetExpr$Parser.parse(Compiler.java:6420)\u001b[0;0m",
      "\u001b[1;31m\tat clojure.lang.Compiler.analyzeSeq(Compiler.java:7003)\u001b[0;0m",
      "\u001b[1;31m\tat clojure.lang.Compiler.analyze(Compiler.java:6773)\u001b[0;0m",
      "\u001b[1;31m\tat clojure.lang.Compiler.analyzeSeq(Compiler.java:6991)\u001b[0;0m",
      "\u001b[1;31m\tat clojure.lang.Compiler.analyze(Compiler.java:6773)\u001b[0;0m",
      "\u001b[1;31m\tat clojure.lang.Compiler.analyze(Compiler.java:6729)\u001b[0;0m",
      "\u001b[1;31m\tat clojure.lang.Compiler$IfExpr$Parser.parse(Compiler.java:2822)\u001b[0;0m",
      "\u001b[1;31m\tat clojure.lang.Compiler.analyzeSeq(Compiler.java:7003)\u001b[0;0m",
      "\u001b[1;31m\tat clojure.lang.Compiler.analyze(Compiler.java:6773)\u001b[0;0m",
      "\u001b[1;31m\tat clojure.lang.Compiler.analyze(Compiler.java:6729)\u001b[0;0m",
      "\u001b[1;31m\tat clojure.lang.Compiler$BodyExpr$Parser.parse(Compiler.java:6100)\u001b[0;0m",
      "\u001b[1;31m\tat clojure.lang.Compiler$LetExpr$Parser.parse(Compiler.java:6420)\u001b[0;0m",
      "\u001b[1;31m\tat clojure.lang.Compiler.analyzeSeq(Compiler.java:7003)\u001b[0;0m",
      "\u001b[1;31m\tat clojure.lang.Compiler.analyze(Compiler.java:6773)\u001b[0;0m",
      "\u001b[1;31m\tat clojure.lang.Compiler.analyze(Compiler.java:6729)\u001b[0;0m",
      "\u001b[1;31m\tat clojure.lang.Compiler$BodyExpr$Parser.parse(Compiler.java:6100)\u001b[0;0m",
      "\u001b[1;31m\tat clojure.lang.Compiler$FnMethod.parse(Compiler.java:5460)\u001b[0;0m",
      "\u001b[1;31m\tat clojure.lang.Compiler$FnExpr.parse(Compiler.java:4022)\u001b[0;0m",
      "\u001b[1;31m\tat clojure.lang.Compiler.analyzeSeq(Compiler.java:7001)\u001b[0;0m",
      "\u001b[1;31m\tat clojure.lang.Compiler.analyze(Compiler.java:6773)\u001b[0;0m",
      "\u001b[1;31m\tat clojure.lang.Compiler.eval(Compiler.java:7059)\u001b[0;0m",
      "\u001b[1;31m\tat clojure.lang.Compiler.load(Compiler.java:7514)\u001b[0;0m",
      "\u001b[1;31m\tat clojure.lang.Compiler.load(Compiler.java:7461)\u001b[0;0m",
      "\u001b[1;31m\tat clojure.core$load_reader.invokeStatic(core.clj:4053)\u001b[0;0m",
      "\u001b[1;31m\tat clojure.core$load_string.invokeStatic(core.clj:4055)\u001b[0;0m",
      "\u001b[1;31m\tat clojure.core$load_string.invoke(core.clj:4055)\u001b[0;0m",
      "\u001b[1;31m\tat beaker_clojure_shell_23e4d944_a124_4fb2_92e2_c6028b05c2dd$run_str_23e4d944_a124_4fb2_92e2_c6028b05c2dd.invokeStatic(Unknown Source)\u001b[0;0m",
      "\u001b[1;31m\tat beaker_clojure_shell_23e4d944_a124_4fb2_92e2_c6028b05c2dd$run_str_23e4d944_a124_4fb2_92e2_c6028b05c2dd.invoke(Unknown Source)\u001b[0;0m",
      "\u001b[1;31m\tat clojure.lang.Var.invoke(Var.java:381)\u001b[0;0m",
      "\u001b[0;31m\tat com.twosigma.beakerx.clojure.evaluator.ClojureEvaluator.runCode(ClojureEvaluator.java:168)\u001b[0;0m",
      "\u001b[0;31m\tat com.twosigma.beakerx.clojure.evaluator.ClojureCodeRunner.call(ClojureCodeRunner.java:47)\u001b[0;0m",
      "\u001b[0;31m\tat com.twosigma.beakerx.clojure.evaluator.ClojureCodeRunner.call(ClojureCodeRunner.java:28)\u001b[0;0m",
      "\u001b[0;31m\tat java.util.concurrent.FutureTask.run(FutureTask.java:266)\u001b[0;0m",
      "\u001b[0;31m\tat java.lang.Thread.run(Thread.java:745)\u001b[0;0m"
     ]
    }
   ],
   "source": [
    "(doseq [epsilon epsilons cycles cycle-sizes]\n",
    "    (display-html (str \"<h3>Logistic Cumulative Noise With Cycles\" \"</h3>\" \"<h3>Epsilon = \" epsilon \"</h3>\" \"<h3>Cycle Size = \" (* cycles 2 )\"</h3>\" ))\n",
    "    (.display (attack-strategy-comparison-plots flat-results-cumulative-logistic :all epsilon\n",
    "                                              :plot-width 400\n",
    "                                              :plot-height 400\n",
    "                                              :show-legend? true))\n",
    "    (display-html (str \"<h4>Breakdown by noise amount</h4>\"))\n",
    "    (.display (attack-strategy-comparison-plots flat-results-cumulative-logistic :cumulative-noise-sigma epsilon\n",
    "                                                :plot-width 400\n",
    "                                                :plot-height 400\n",
    "                                                :show-legend? false)))"
   ]
  },
  {
   "cell_type": "code",
   "execution_count": 19,
   "metadata": {},
   "outputs": [
    {
     "ename": "java.lang.RuntimeException",
     "evalue": " Unable to resolve symbol",
     "output_type": "error",
     "traceback": [
      "\u001b[1;31mjava.lang.RuntimeException: Unable to resolve symbol: attack-strategy-comparison in this context\u001b[0;0m",
      "\u001b[1;31m\tat clojure.lang.Util.runtimeException(Util.java:221)\u001b[0;0m",
      "\u001b[1;31m\tat clojure.lang.Compiler.resolveIn(Compiler.java:7299)\u001b[0;0m",
      "\u001b[1;31m\tat clojure.lang.Compiler.resolve(Compiler.java:7243)\u001b[0;0m",
      "\u001b[1;31m\tat clojure.lang.Compiler.analyzeSymbol(Compiler.java:7204)\u001b[0;0m",
      "\u001b[1;31m\tat clojure.lang.Compiler.analyze(Compiler.java:6752)\u001b[0;0m",
      "\u001b[1;31m\tat clojure.lang.Compiler.analyze(Compiler.java:6729)\u001b[0;0m",
      "\u001b[1;31m\tat clojure.lang.Compiler$InvokeExpr.parse(Compiler.java:3813)\u001b[0;0m",
      "\u001b[1;31m\tat clojure.lang.Compiler.analyzeSeq(Compiler.java:7005)\u001b[0;0m",
      "\u001b[1;31m\tat clojure.lang.Compiler.analyze(Compiler.java:6773)\u001b[0;0m",
      "\u001b[1;31m\tat clojure.lang.Compiler.access$300(Compiler.java:38)\u001b[0;0m",
      "\u001b[1;31m\tat clojure.lang.Compiler$LetExpr$Parser.parse(Compiler.java:6368)\u001b[0;0m",
      "\u001b[1;31m\tat clojure.lang.Compiler.analyzeSeq(Compiler.java:7003)\u001b[0;0m",
      "\u001b[1;31m\tat clojure.lang.Compiler.analyze(Compiler.java:6773)\u001b[0;0m",
      "\u001b[1;31m\tat clojure.lang.Compiler.analyze(Compiler.java:6729)\u001b[0;0m",
      "\u001b[1;31m\tat clojure.lang.Compiler$BodyExpr$Parser.parse(Compiler.java:6100)\u001b[0;0m",
      "\u001b[1;31m\tat clojure.lang.Compiler$FnMethod.parse(Compiler.java:5460)\u001b[0;0m",
      "\u001b[1;31m\tat clojure.lang.Compiler$FnExpr.parse(Compiler.java:4022)\u001b[0;0m",
      "\u001b[1;31m\tat clojure.lang.Compiler.analyzeSeq(Compiler.java:7001)\u001b[0;0m",
      "\u001b[1;31m\tat clojure.lang.Compiler.analyze(Compiler.java:6773)\u001b[0;0m",
      "\u001b[1;31m\tat clojure.lang.Compiler.eval(Compiler.java:7059)\u001b[0;0m",
      "\u001b[1;31m\tat clojure.lang.Compiler.load(Compiler.java:7514)\u001b[0;0m",
      "\u001b[1;31m\tat clojure.lang.Compiler.load(Compiler.java:7461)\u001b[0;0m",
      "\u001b[1;31m\tat clojure.core$load_reader.invokeStatic(core.clj:4053)\u001b[0;0m",
      "\u001b[1;31m\tat clojure.core$load_string.invokeStatic(core.clj:4055)\u001b[0;0m",
      "\u001b[1;31m\tat clojure.core$load_string.invoke(core.clj:4055)\u001b[0;0m",
      "\u001b[1;31m\tat beaker_clojure_shell_23e4d944_a124_4fb2_92e2_c6028b05c2dd$run_str_23e4d944_a124_4fb2_92e2_c6028b05c2dd.invokeStatic(Unknown Source)\u001b[0;0m",
      "\u001b[1;31m\tat beaker_clojure_shell_23e4d944_a124_4fb2_92e2_c6028b05c2dd$run_str_23e4d944_a124_4fb2_92e2_c6028b05c2dd.invoke(Unknown Source)\u001b[0;0m",
      "\u001b[1;31m\tat clojure.lang.Var.invoke(Var.java:381)\u001b[0;0m",
      "\u001b[0;31m\tat com.twosigma.beakerx.clojure.evaluator.ClojureEvaluator.runCode(ClojureEvaluator.java:168)\u001b[0;0m",
      "\u001b[0;31m\tat com.twosigma.beakerx.clojure.evaluator.ClojureCodeRunner.call(ClojureCodeRunner.java:47)\u001b[0;0m",
      "\u001b[0;31m\tat com.twosigma.beakerx.clojure.evaluator.ClojureCodeRunner.call(ClojureCodeRunner.java:28)\u001b[0;0m",
      "\u001b[0;31m\tat java.util.concurrent.FutureTask.run(FutureTask.java:266)\u001b[0;0m",
      "\u001b[0;31m\tat java.lang.Thread.run(Thread.java:745)\u001b[0;0m"
     ]
    }
   ],
   "source": [
    "(let [comparison (attack-strategy-comparison flat-results-cumulative-cycles epsilons\n",
    "                                  :known-record-count (apply max (:known-record-counts base-configuration)))]\n",
    "    (save-data (str \"workspace/\" dataset-label \"/cumulative-cycles-attack-strategies-comparison.edn\") comparison)\n",
    "    (display-table comparison))"
   ]
  },
  {
   "cell_type": "code",
   "execution_count": 20,
   "metadata": {},
   "outputs": [
    {
     "ename": "java.lang.RuntimeException",
     "evalue": " Unable to resolve symbol",
     "output_type": "error",
     "traceback": [
      "\u001b[1;31mjava.lang.RuntimeException: Unable to resolve symbol: attack-strategy-comparison in this context\u001b[0;0m",
      "\u001b[1;31m\tat clojure.lang.Util.runtimeException(Util.java:221)\u001b[0;0m",
      "\u001b[1;31m\tat clojure.lang.Compiler.resolveIn(Compiler.java:7299)\u001b[0;0m",
      "\u001b[1;31m\tat clojure.lang.Compiler.resolve(Compiler.java:7243)\u001b[0;0m",
      "\u001b[1;31m\tat clojure.lang.Compiler.analyzeSymbol(Compiler.java:7204)\u001b[0;0m",
      "\u001b[1;31m\tat clojure.lang.Compiler.analyze(Compiler.java:6752)\u001b[0;0m",
      "\u001b[1;31m\tat clojure.lang.Compiler.analyze(Compiler.java:6729)\u001b[0;0m",
      "\u001b[1;31m\tat clojure.lang.Compiler$InvokeExpr.parse(Compiler.java:3813)\u001b[0;0m",
      "\u001b[1;31m\tat clojure.lang.Compiler.analyzeSeq(Compiler.java:7005)\u001b[0;0m",
      "\u001b[1;31m\tat clojure.lang.Compiler.analyze(Compiler.java:6773)\u001b[0;0m",
      "\u001b[1;31m\tat clojure.lang.Compiler.access$300(Compiler.java:38)\u001b[0;0m",
      "\u001b[1;31m\tat clojure.lang.Compiler$LetExpr$Parser.parse(Compiler.java:6368)\u001b[0;0m",
      "\u001b[1;31m\tat clojure.lang.Compiler.analyzeSeq(Compiler.java:7003)\u001b[0;0m",
      "\u001b[1;31m\tat clojure.lang.Compiler.analyze(Compiler.java:6773)\u001b[0;0m",
      "\u001b[1;31m\tat clojure.lang.Compiler.analyze(Compiler.java:6729)\u001b[0;0m",
      "\u001b[1;31m\tat clojure.lang.Compiler$BodyExpr$Parser.parse(Compiler.java:6100)\u001b[0;0m",
      "\u001b[1;31m\tat clojure.lang.Compiler$FnMethod.parse(Compiler.java:5460)\u001b[0;0m",
      "\u001b[1;31m\tat clojure.lang.Compiler$FnExpr.parse(Compiler.java:4022)\u001b[0;0m",
      "\u001b[1;31m\tat clojure.lang.Compiler.analyzeSeq(Compiler.java:7001)\u001b[0;0m",
      "\u001b[1;31m\tat clojure.lang.Compiler.analyze(Compiler.java:6773)\u001b[0;0m",
      "\u001b[1;31m\tat clojure.lang.Compiler.eval(Compiler.java:7059)\u001b[0;0m",
      "\u001b[1;31m\tat clojure.lang.Compiler.load(Compiler.java:7514)\u001b[0;0m",
      "\u001b[1;31m\tat clojure.lang.Compiler.load(Compiler.java:7461)\u001b[0;0m",
      "\u001b[1;31m\tat clojure.core$load_reader.invokeStatic(core.clj:4053)\u001b[0;0m",
      "\u001b[1;31m\tat clojure.core$load_string.invokeStatic(core.clj:4055)\u001b[0;0m",
      "\u001b[1;31m\tat clojure.core$load_string.invoke(core.clj:4055)\u001b[0;0m",
      "\u001b[1;31m\tat beaker_clojure_shell_23e4d944_a124_4fb2_92e2_c6028b05c2dd$run_str_23e4d944_a124_4fb2_92e2_c6028b05c2dd.invokeStatic(Unknown Source)\u001b[0;0m",
      "\u001b[1;31m\tat beaker_clojure_shell_23e4d944_a124_4fb2_92e2_c6028b05c2dd$run_str_23e4d944_a124_4fb2_92e2_c6028b05c2dd.invoke(Unknown Source)\u001b[0;0m",
      "\u001b[1;31m\tat clojure.lang.Var.invoke(Var.java:381)\u001b[0;0m",
      "\u001b[0;31m\tat com.twosigma.beakerx.clojure.evaluator.ClojureEvaluator.runCode(ClojureEvaluator.java:168)\u001b[0;0m",
      "\u001b[0;31m\tat com.twosigma.beakerx.clojure.evaluator.ClojureCodeRunner.call(ClojureCodeRunner.java:47)\u001b[0;0m",
      "\u001b[0;31m\tat com.twosigma.beakerx.clojure.evaluator.ClojureCodeRunner.call(ClojureCodeRunner.java:28)\u001b[0;0m",
      "\u001b[0;31m\tat java.util.concurrent.FutureTask.run(FutureTask.java:266)\u001b[0;0m",
      "\u001b[0;31m\tat java.lang.Thread.run(Thread.java:745)\u001b[0;0m"
     ]
    }
   ],
   "source": [
    "(let [comparison (attack-strategy-comparison flat-results-cumulative-logistic epsilons\n",
    "                                  :known-record-count (apply max (:known-record-counts base-configuration)))]\n",
    "    (save-data (str \"workspace/\" dataset-label \"/logistic-attack-strategies-comparison.edn\") comparison)\n",
    "    (display-table comparison))\n"
   ]
  },
  {
   "cell_type": "code",
   "execution_count": 21,
   "metadata": {},
   "outputs": [
    {
     "data": {
      "text/plain": [
       "#'beaker_clojure_shell_23e4d944-a124-4fb2-92e2-c6028b05c2dd/best-logistic-attack-strategy"
      ]
     },
     "execution_count": 21,
     "metadata": {},
     "output_type": "execute_result"
    }
   ],
   "source": [
    ";;(def best-cumulative-attack-strategy :a-rpcn-1)\n",
    "(def best-cumulative-cycles-attack-strategy :a-rpcn-1)\n",
    "(def best-logistic-attack-strategy :a-rpcn-1)"
   ]
  },
  {
   "cell_type": "markdown",
   "metadata": {},
   "source": [
    "##Linear Cumulative vs.Logistic Cumulative Noise"
   ]
  },
  {
   "cell_type": "code",
   "execution_count": 22,
   "metadata": {},
   "outputs": [
    {
     "ename": "java.lang.RuntimeException",
     "evalue": " Unable to resolve symbol",
     "output_type": "error",
     "traceback": [
      "\u001b[1;31mjava.lang.RuntimeException: Unable to resolve symbol: display-html in this context\u001b[0;0m",
      "\u001b[1;31m\tat clojure.lang.Util.runtimeException(Util.java:221)\u001b[0;0m",
      "\u001b[1;31m\tat clojure.lang.Compiler.resolveIn(Compiler.java:7299)\u001b[0;0m",
      "\u001b[1;31m\tat clojure.lang.Compiler.resolve(Compiler.java:7243)\u001b[0;0m",
      "\u001b[1;31m\tat clojure.lang.Compiler.analyzeSymbol(Compiler.java:7204)\u001b[0;0m",
      "\u001b[1;31m\tat clojure.lang.Compiler.analyze(Compiler.java:6752)\u001b[0;0m",
      "\u001b[1;31m\tat clojure.lang.Compiler.analyze(Compiler.java:6729)\u001b[0;0m",
      "\u001b[1;31m\tat clojure.lang.Compiler$InvokeExpr.parse(Compiler.java:3813)\u001b[0;0m",
      "\u001b[1;31m\tat clojure.lang.Compiler.analyzeSeq(Compiler.java:7005)\u001b[0;0m",
      "\u001b[1;31m\tat clojure.lang.Compiler.analyze(Compiler.java:6773)\u001b[0;0m",
      "\u001b[1;31m\tat clojure.lang.Compiler.analyze(Compiler.java:6729)\u001b[0;0m",
      "\u001b[1;31m\tat clojure.lang.Compiler$BodyExpr$Parser.parse(Compiler.java:6100)\u001b[0;0m",
      "\u001b[1;31m\tat clojure.lang.Compiler$FnMethod.parse(Compiler.java:5460)\u001b[0;0m",
      "\u001b[1;31m\tat clojure.lang.Compiler$FnExpr.parse(Compiler.java:4022)\u001b[0;0m",
      "\u001b[1;31m\tat clojure.lang.Compiler.analyzeSeq(Compiler.java:7001)\u001b[0;0m",
      "\u001b[1;31m\tat clojure.lang.Compiler.analyze(Compiler.java:6773)\u001b[0;0m",
      "\u001b[1;31m\tat clojure.lang.Compiler.eval(Compiler.java:7059)\u001b[0;0m",
      "\u001b[1;31m\tat clojure.lang.Compiler.load(Compiler.java:7514)\u001b[0;0m",
      "\u001b[1;31m\tat clojure.lang.Compiler.load(Compiler.java:7461)\u001b[0;0m",
      "\u001b[1;31m\tat clojure.core$load_reader.invokeStatic(core.clj:4053)\u001b[0;0m",
      "\u001b[1;31m\tat clojure.core$load_string.invokeStatic(core.clj:4055)\u001b[0;0m",
      "\u001b[1;31m\tat clojure.core$load_string.invoke(core.clj:4055)\u001b[0;0m",
      "\u001b[1;31m\tat beaker_clojure_shell_23e4d944_a124_4fb2_92e2_c6028b05c2dd$run_str_23e4d944_a124_4fb2_92e2_c6028b05c2dd.invokeStatic(Unknown Source)\u001b[0;0m",
      "\u001b[1;31m\tat beaker_clojure_shell_23e4d944_a124_4fb2_92e2_c6028b05c2dd$run_str_23e4d944_a124_4fb2_92e2_c6028b05c2dd.invoke(Unknown Source)\u001b[0;0m",
      "\u001b[1;31m\tat clojure.lang.Var.invoke(Var.java:381)\u001b[0;0m",
      "\u001b[0;31m\tat com.twosigma.beakerx.clojure.evaluator.ClojureEvaluator.runCode(ClojureEvaluator.java:168)\u001b[0;0m",
      "\u001b[0;31m\tat com.twosigma.beakerx.clojure.evaluator.ClojureCodeRunner.call(ClojureCodeRunner.java:47)\u001b[0;0m",
      "\u001b[0;31m\tat com.twosigma.beakerx.clojure.evaluator.ClojureCodeRunner.call(ClojureCodeRunner.java:28)\u001b[0;0m",
      "\u001b[0;31m\tat java.util.concurrent.FutureTask.run(FutureTask.java:266)\u001b[0;0m",
      "\u001b[0;31m\tat java.lang.Thread.run(Thread.java:745)\u001b[0;0m"
     ]
    }
   ],
   "source": [
    "(display-html (accuracy-privacy-tradeoff-legend cumulative-noise-sigmas))\n",
    "nil"
   ]
  },
  {
   "cell_type": "code",
   "execution_count": 23,
   "metadata": {},
   "outputs": [
    {
     "ename": "java.lang.RuntimeException",
     "evalue": " Unable to resolve symbol",
     "output_type": "error",
     "traceback": [
      "\u001b[1;31mjava.lang.RuntimeException: Unable to resolve symbol: accuracy-privacy-tradeoff-comparison in this context\u001b[0;0m",
      "\u001b[1;31m\tat clojure.lang.Util.runtimeException(Util.java:221)\u001b[0;0m",
      "\u001b[1;31m\tat clojure.lang.Compiler.resolveIn(Compiler.java:7299)\u001b[0;0m",
      "\u001b[1;31m\tat clojure.lang.Compiler.resolve(Compiler.java:7243)\u001b[0;0m",
      "\u001b[1;31m\tat clojure.lang.Compiler.analyzeSymbol(Compiler.java:7204)\u001b[0;0m",
      "\u001b[1;31m\tat clojure.lang.Compiler.analyze(Compiler.java:6752)\u001b[0;0m",
      "\u001b[1;31m\tat clojure.lang.Compiler.analyze(Compiler.java:6729)\u001b[0;0m",
      "\u001b[1;31m\tat clojure.lang.Compiler$InvokeExpr.parse(Compiler.java:3813)\u001b[0;0m",
      "\u001b[1;31m\tat clojure.lang.Compiler.analyzeSeq(Compiler.java:7005)\u001b[0;0m",
      "\u001b[1;31m\tat clojure.lang.Compiler.analyze(Compiler.java:6773)\u001b[0;0m",
      "\u001b[1;31m\tat clojure.lang.Compiler.analyze(Compiler.java:6729)\u001b[0;0m",
      "\u001b[1;31m\tat clojure.lang.Compiler$HostExpr$Parser.parse(Compiler.java:986)\u001b[0;0m",
      "\u001b[1;31m\tat clojure.lang.Compiler.analyzeSeq(Compiler.java:7003)\u001b[0;0m",
      "\u001b[1;31m\tat clojure.lang.Compiler.analyze(Compiler.java:6773)\u001b[0;0m",
      "\u001b[1;31m\tat clojure.lang.Compiler.analyzeSeq(Compiler.java:6991)\u001b[0;0m",
      "\u001b[1;31m\tat clojure.lang.Compiler.analyze(Compiler.java:6773)\u001b[0;0m",
      "\u001b[1;31m\tat clojure.lang.Compiler.analyze(Compiler.java:6729)\u001b[0;0m",
      "\u001b[1;31m\tat clojure.lang.Compiler$BodyExpr$Parser.parse(Compiler.java:6100)\u001b[0;0m",
      "\u001b[1;31m\tat clojure.lang.Compiler.analyzeSeq(Compiler.java:7003)\u001b[0;0m",
      "\u001b[1;31m\tat clojure.lang.Compiler.analyze(Compiler.java:6773)\u001b[0;0m",
      "\u001b[1;31m\tat clojure.lang.Compiler.analyze(Compiler.java:6729)\u001b[0;0m",
      "\u001b[1;31m\tat clojure.lang.Compiler$BodyExpr$Parser.parse(Compiler.java:6100)\u001b[0;0m",
      "\u001b[1;31m\tat clojure.lang.Compiler$LetExpr$Parser.parse(Compiler.java:6420)\u001b[0;0m",
      "\u001b[1;31m\tat clojure.lang.Compiler.analyzeSeq(Compiler.java:7003)\u001b[0;0m",
      "\u001b[1;31m\tat clojure.lang.Compiler.analyze(Compiler.java:6773)\u001b[0;0m",
      "\u001b[1;31m\tat clojure.lang.Compiler.analyzeSeq(Compiler.java:6991)\u001b[0;0m",
      "\u001b[1;31m\tat clojure.lang.Compiler.analyze(Compiler.java:6773)\u001b[0;0m",
      "\u001b[1;31m\tat clojure.lang.Compiler.analyze(Compiler.java:6729)\u001b[0;0m",
      "\u001b[1;31m\tat clojure.lang.Compiler$IfExpr$Parser.parse(Compiler.java:2822)\u001b[0;0m",
      "\u001b[1;31m\tat clojure.lang.Compiler.analyzeSeq(Compiler.java:7003)\u001b[0;0m",
      "\u001b[1;31m\tat clojure.lang.Compiler.analyze(Compiler.java:6773)\u001b[0;0m",
      "\u001b[1;31m\tat clojure.lang.Compiler.analyze(Compiler.java:6729)\u001b[0;0m",
      "\u001b[1;31m\tat clojure.lang.Compiler$BodyExpr$Parser.parse(Compiler.java:6100)\u001b[0;0m",
      "\u001b[1;31m\tat clojure.lang.Compiler$LetExpr$Parser.parse(Compiler.java:6420)\u001b[0;0m",
      "\u001b[1;31m\tat clojure.lang.Compiler.analyzeSeq(Compiler.java:7003)\u001b[0;0m",
      "\u001b[1;31m\tat clojure.lang.Compiler.analyze(Compiler.java:6773)\u001b[0;0m",
      "\u001b[1;31m\tat clojure.lang.Compiler.analyze(Compiler.java:6729)\u001b[0;0m",
      "\u001b[1;31m\tat clojure.lang.Compiler$BodyExpr$Parser.parse(Compiler.java:6100)\u001b[0;0m",
      "\u001b[1;31m\tat clojure.lang.Compiler$FnMethod.parse(Compiler.java:5460)\u001b[0;0m",
      "\u001b[1;31m\tat clojure.lang.Compiler$FnExpr.parse(Compiler.java:4022)\u001b[0;0m",
      "\u001b[1;31m\tat clojure.lang.Compiler.analyzeSeq(Compiler.java:7001)\u001b[0;0m",
      "\u001b[1;31m\tat clojure.lang.Compiler.analyze(Compiler.java:6773)\u001b[0;0m",
      "\u001b[1;31m\tat clojure.lang.Compiler.eval(Compiler.java:7059)\u001b[0;0m",
      "\u001b[1;31m\tat clojure.lang.Compiler.load(Compiler.java:7514)\u001b[0;0m",
      "\u001b[1;31m\tat clojure.lang.Compiler.load(Compiler.java:7461)\u001b[0;0m",
      "\u001b[1;31m\tat clojure.core$load_reader.invokeStatic(core.clj:4053)\u001b[0;0m",
      "\u001b[1;31m\tat clojure.core$load_string.invokeStatic(core.clj:4055)\u001b[0;0m",
      "\u001b[1;31m\tat clojure.core$load_string.invoke(core.clj:4055)\u001b[0;0m",
      "\u001b[1;31m\tat beaker_clojure_shell_23e4d944_a124_4fb2_92e2_c6028b05c2dd$run_str_23e4d944_a124_4fb2_92e2_c6028b05c2dd.invokeStatic(Unknown Source)\u001b[0;0m",
      "\u001b[1;31m\tat beaker_clojure_shell_23e4d944_a124_4fb2_92e2_c6028b05c2dd$run_str_23e4d944_a124_4fb2_92e2_c6028b05c2dd.invoke(Unknown Source)\u001b[0;0m",
      "\u001b[1;31m\tat clojure.lang.Var.invoke(Var.java:381)\u001b[0;0m",
      "\u001b[0;31m\tat com.twosigma.beakerx.clojure.evaluator.ClojureEvaluator.runCode(ClojureEvaluator.java:168)\u001b[0;0m",
      "\u001b[0;31m\tat com.twosigma.beakerx.clojure.evaluator.ClojureCodeRunner.call(ClojureCodeRunner.java:47)\u001b[0;0m",
      "\u001b[0;31m\tat com.twosigma.beakerx.clojure.evaluator.ClojureCodeRunner.call(ClojureCodeRunner.java:28)\u001b[0;0m",
      "\u001b[0;31m\tat java.util.concurrent.FutureTask.run(FutureTask.java:266)\u001b[0;0m",
      "\u001b[0;31m\tat java.lang.Thread.run(Thread.java:745)\u001b[0;0m"
     ]
    }
   ],
   "source": [
    "(doseq [epsilon epsilons]\n",
    "    (.display (accuracy-privacy-tradeoff-comparison  results-cumulative-cycles results-cumulative-logistic ;;results-cumulative\n",
    "                                                    :arf  best-cumulative-cycles-attack-strategy best-logistic-attack-strategy epsilon  ;;best-cumulative-attack-strategy\n",
    "                                                    :plot-width 400\n",
    "                                                    :plot-height 400)))"
   ]
  },
  {
   "cell_type": "markdown",
   "metadata": {},
   "source": [
    "### Comparison of Square Distance From Origin\n",
    "\n",
    "Performance is the sum of the squares of: (1) Prob. of e-privacy breach and (2) classification error."
   ]
  },
  {
   "cell_type": "code",
   "execution_count": 24,
   "metadata": {},
   "outputs": [
    {
     "ename": "java.lang.RuntimeException",
     "evalue": " Unable to resolve symbol",
     "output_type": "error",
     "traceback": [
      "\u001b[1;31mjava.lang.RuntimeException: Unable to resolve symbol: accuracy-privacy-tradeoff in this context\u001b[0;0m",
      "\u001b[1;31m\tat clojure.lang.Util.runtimeException(Util.java:221)\u001b[0;0m",
      "\u001b[1;31m\tat clojure.lang.Compiler.resolveIn(Compiler.java:7299)\u001b[0;0m",
      "\u001b[1;31m\tat clojure.lang.Compiler.resolve(Compiler.java:7243)\u001b[0;0m",
      "\u001b[1;31m\tat clojure.lang.Compiler.analyzeSymbol(Compiler.java:7204)\u001b[0;0m",
      "\u001b[1;31m\tat clojure.lang.Compiler.analyze(Compiler.java:6752)\u001b[0;0m",
      "\u001b[1;31m\tat clojure.lang.Compiler.analyze(Compiler.java:6729)\u001b[0;0m",
      "\u001b[1;31m\tat clojure.lang.Compiler$InvokeExpr.parse(Compiler.java:3813)\u001b[0;0m",
      "\u001b[1;31m\tat clojure.lang.Compiler.analyzeSeq(Compiler.java:7005)\u001b[0;0m",
      "\u001b[1;31m\tat clojure.lang.Compiler.analyze(Compiler.java:6773)\u001b[0;0m",
      "\u001b[1;31m\tat clojure.lang.Compiler.access$300(Compiler.java:38)\u001b[0;0m",
      "\u001b[1;31m\tat clojure.lang.Compiler$LetExpr$Parser.parse(Compiler.java:6368)\u001b[0;0m",
      "\u001b[1;31m\tat clojure.lang.Compiler.analyzeSeq(Compiler.java:7003)\u001b[0;0m",
      "\u001b[1;31m\tat clojure.lang.Compiler.analyze(Compiler.java:6773)\u001b[0;0m",
      "\u001b[1;31m\tat clojure.lang.Compiler.analyze(Compiler.java:6729)\u001b[0;0m",
      "\u001b[1;31m\tat clojure.lang.Compiler$BodyExpr$Parser.parse(Compiler.java:6100)\u001b[0;0m",
      "\u001b[1;31m\tat clojure.lang.Compiler$FnMethod.parse(Compiler.java:5460)\u001b[0;0m",
      "\u001b[1;31m\tat clojure.lang.Compiler$FnExpr.parse(Compiler.java:4022)\u001b[0;0m",
      "\u001b[1;31m\tat clojure.lang.Compiler.analyzeSeq(Compiler.java:7001)\u001b[0;0m",
      "\u001b[1;31m\tat clojure.lang.Compiler.analyze(Compiler.java:6773)\u001b[0;0m",
      "\u001b[1;31m\tat clojure.lang.Compiler.eval(Compiler.java:7059)\u001b[0;0m",
      "\u001b[1;31m\tat clojure.lang.Compiler.load(Compiler.java:7514)\u001b[0;0m",
      "\u001b[1;31m\tat clojure.lang.Compiler.load(Compiler.java:7461)\u001b[0;0m",
      "\u001b[1;31m\tat clojure.core$load_reader.invokeStatic(core.clj:4053)\u001b[0;0m",
      "\u001b[1;31m\tat clojure.core$load_string.invokeStatic(core.clj:4055)\u001b[0;0m",
      "\u001b[1;31m\tat clojure.core$load_string.invoke(core.clj:4055)\u001b[0;0m",
      "\u001b[1;31m\tat beaker_clojure_shell_23e4d944_a124_4fb2_92e2_c6028b05c2dd$run_str_23e4d944_a124_4fb2_92e2_c6028b05c2dd.invokeStatic(Unknown Source)\u001b[0;0m",
      "\u001b[1;31m\tat beaker_clojure_shell_23e4d944_a124_4fb2_92e2_c6028b05c2dd$run_str_23e4d944_a124_4fb2_92e2_c6028b05c2dd.invoke(Unknown Source)\u001b[0;0m",
      "\u001b[1;31m\tat clojure.lang.Var.invoke(Var.java:381)\u001b[0;0m",
      "\u001b[0;31m\tat com.twosigma.beakerx.clojure.evaluator.ClojureEvaluator.runCode(ClojureEvaluator.java:168)\u001b[0;0m",
      "\u001b[0;31m\tat com.twosigma.beakerx.clojure.evaluator.ClojureCodeRunner.call(ClojureCodeRunner.java:47)\u001b[0;0m",
      "\u001b[0;31m\tat com.twosigma.beakerx.clojure.evaluator.ClojureCodeRunner.call(ClojureCodeRunner.java:28)\u001b[0;0m",
      "\u001b[0;31m\tat java.util.concurrent.FutureTask.run(FutureTask.java:266)\u001b[0;0m",
      "\u001b[0;31m\tat java.lang.Thread.run(Thread.java:745)\u001b[0;0m"
     ]
    }
   ],
   "source": [
    "(let [comparison (accuracy-privacy-tradeoff  results-cumulative-cycles results-cumulative-logistic ;;results-cumulative\n",
    "                               :arf  best-cumulative-cycles-attack-strategy best-logistic-attack-strategy epsilons ;;best-cumulative-attack-strategy\n",
    "                               :square-distance? true\n",
    "                               :row-per-noise-level? true\n",
    "                               :known-record-count (apply max (:known-record-counts base-configuration))\n",
    "                                           )]\n",
    "    (save-data (str \"workspace/\" dataset-label \"/mask-comparison.edn\") comparison)\n",
    "    (display-table comparison))"
   ]
  },
  {
   "cell_type": "markdown",
   "metadata": {},
   "source": [
    "## Effect of Cumulative Noise on Accuracy over Time"
   ]
  },
  {
   "cell_type": "code",
   "execution_count": 25,
   "metadata": {},
   "outputs": [
    {
     "ename": "java.lang.RuntimeException",
     "evalue": " Unable to resolve symbol",
     "output_type": "error",
     "traceback": [
      "\u001b[1;31mjava.lang.RuntimeException: Unable to resolve symbol: noise-accuracy-plot in this context\u001b[0;0m",
      "\u001b[1;31m\tat clojure.lang.Util.runtimeException(Util.java:221)\u001b[0;0m",
      "\u001b[1;31m\tat clojure.lang.Compiler.resolveIn(Compiler.java:7299)\u001b[0;0m",
      "\u001b[1;31m\tat clojure.lang.Compiler.resolve(Compiler.java:7243)\u001b[0;0m",
      "\u001b[1;31m\tat clojure.lang.Compiler.analyzeSymbol(Compiler.java:7204)\u001b[0;0m",
      "\u001b[1;31m\tat clojure.lang.Compiler.analyze(Compiler.java:6752)\u001b[0;0m",
      "\u001b[1;31m\tat clojure.lang.Compiler.analyze(Compiler.java:6729)\u001b[0;0m",
      "\u001b[1;31m\tat clojure.lang.Compiler$InvokeExpr.parse(Compiler.java:3813)\u001b[0;0m",
      "\u001b[1;31m\tat clojure.lang.Compiler.analyzeSeq(Compiler.java:7005)\u001b[0;0m",
      "\u001b[1;31m\tat clojure.lang.Compiler.analyze(Compiler.java:6773)\u001b[0;0m",
      "\u001b[1;31m\tat clojure.lang.Compiler.analyze(Compiler.java:6729)\u001b[0;0m",
      "\u001b[1;31m\tat clojure.lang.Compiler$BodyExpr$Parser.parse(Compiler.java:6100)\u001b[0;0m",
      "\u001b[1;31m\tat clojure.lang.Compiler$FnMethod.parse(Compiler.java:5460)\u001b[0;0m",
      "\u001b[1;31m\tat clojure.lang.Compiler$FnExpr.parse(Compiler.java:4022)\u001b[0;0m",
      "\u001b[1;31m\tat clojure.lang.Compiler.analyzeSeq(Compiler.java:7001)\u001b[0;0m",
      "\u001b[1;31m\tat clojure.lang.Compiler.analyze(Compiler.java:6773)\u001b[0;0m",
      "\u001b[1;31m\tat clojure.lang.Compiler.eval(Compiler.java:7059)\u001b[0;0m",
      "\u001b[1;31m\tat clojure.lang.Compiler.load(Compiler.java:7514)\u001b[0;0m",
      "\u001b[1;31m\tat clojure.lang.Compiler.load(Compiler.java:7461)\u001b[0;0m",
      "\u001b[1;31m\tat clojure.core$load_reader.invokeStatic(core.clj:4053)\u001b[0;0m",
      "\u001b[1;31m\tat clojure.core$load_string.invokeStatic(core.clj:4055)\u001b[0;0m",
      "\u001b[1;31m\tat clojure.core$load_string.invoke(core.clj:4055)\u001b[0;0m",
      "\u001b[1;31m\tat beaker_clojure_shell_23e4d944_a124_4fb2_92e2_c6028b05c2dd$run_str_23e4d944_a124_4fb2_92e2_c6028b05c2dd.invokeStatic(Unknown Source)\u001b[0;0m",
      "\u001b[1;31m\tat beaker_clojure_shell_23e4d944_a124_4fb2_92e2_c6028b05c2dd$run_str_23e4d944_a124_4fb2_92e2_c6028b05c2dd.invoke(Unknown Source)\u001b[0;0m",
      "\u001b[1;31m\tat clojure.lang.Var.invoke(Var.java:381)\u001b[0;0m",
      "\u001b[0;31m\tat com.twosigma.beakerx.clojure.evaluator.ClojureEvaluator.runCode(ClojureEvaluator.java:168)\u001b[0;0m",
      "\u001b[0;31m\tat com.twosigma.beakerx.clojure.evaluator.ClojureCodeRunner.call(ClojureCodeRunner.java:47)\u001b[0;0m",
      "\u001b[0;31m\tat com.twosigma.beakerx.clojure.evaluator.ClojureCodeRunner.call(ClojureCodeRunner.java:28)\u001b[0;0m",
      "\u001b[0;31m\tat java.util.concurrent.FutureTask.run(FutureTask.java:266)\u001b[0;0m",
      "\u001b[0;31m\tat java.lang.Thread.run(Thread.java:745)\u001b[0;0m"
     ]
    }
   ],
   "source": [
    "(noise-accuracy-plot  results-cumulative-cycles results-cumulative-logistic :arf ;;results-cumulative\n",
    "                     :init-width 800\n",
    "                     :init-height 400)"
   ]
  },
  {
   "cell_type": "markdown",
   "metadata": {},
   "source": [
    "## Effect of Cumulative Noise on Privacy over Time"
   ]
  },
  {
   "cell_type": "code",
   "execution_count": 26,
   "metadata": {},
   "outputs": [
    {
     "ename": "java.lang.RuntimeException",
     "evalue": " Unable to resolve symbol",
     "output_type": "error",
     "traceback": [
      "\u001b[1;31mjava.lang.RuntimeException: Unable to resolve symbol: display-masking-error-plots in this context\u001b[0;0m",
      "\u001b[1;31m\tat clojure.lang.Util.runtimeException(Util.java:221)\u001b[0;0m",
      "\u001b[1;31m\tat clojure.lang.Compiler.resolveIn(Compiler.java:7299)\u001b[0;0m",
      "\u001b[1;31m\tat clojure.lang.Compiler.resolve(Compiler.java:7243)\u001b[0;0m",
      "\u001b[1;31m\tat clojure.lang.Compiler.analyzeSymbol(Compiler.java:7204)\u001b[0;0m",
      "\u001b[1;31m\tat clojure.lang.Compiler.analyze(Compiler.java:6752)\u001b[0;0m",
      "\u001b[1;31m\tat clojure.lang.Compiler.analyze(Compiler.java:6729)\u001b[0;0m",
      "\u001b[1;31m\tat clojure.lang.Compiler$InvokeExpr.parse(Compiler.java:3813)\u001b[0;0m",
      "\u001b[1;31m\tat clojure.lang.Compiler.analyzeSeq(Compiler.java:7005)\u001b[0;0m",
      "\u001b[1;31m\tat clojure.lang.Compiler.analyze(Compiler.java:6773)\u001b[0;0m",
      "\u001b[1;31m\tat clojure.lang.Compiler.analyze(Compiler.java:6729)\u001b[0;0m",
      "\u001b[1;31m\tat clojure.lang.Compiler$BodyExpr$Parser.parse(Compiler.java:6100)\u001b[0;0m",
      "\u001b[1;31m\tat clojure.lang.Compiler$FnMethod.parse(Compiler.java:5460)\u001b[0;0m",
      "\u001b[1;31m\tat clojure.lang.Compiler$FnExpr.parse(Compiler.java:4022)\u001b[0;0m",
      "\u001b[1;31m\tat clojure.lang.Compiler.analyzeSeq(Compiler.java:7001)\u001b[0;0m",
      "\u001b[1;31m\tat clojure.lang.Compiler.analyze(Compiler.java:6773)\u001b[0;0m",
      "\u001b[1;31m\tat clojure.lang.Compiler.eval(Compiler.java:7059)\u001b[0;0m",
      "\u001b[1;31m\tat clojure.lang.Compiler.load(Compiler.java:7514)\u001b[0;0m",
      "\u001b[1;31m\tat clojure.lang.Compiler.load(Compiler.java:7461)\u001b[0;0m",
      "\u001b[1;31m\tat clojure.core$load_reader.invokeStatic(core.clj:4053)\u001b[0;0m",
      "\u001b[1;31m\tat clojure.core$load_string.invokeStatic(core.clj:4055)\u001b[0;0m",
      "\u001b[1;31m\tat clojure.core$load_string.invoke(core.clj:4055)\u001b[0;0m",
      "\u001b[1;31m\tat beaker_clojure_shell_23e4d944_a124_4fb2_92e2_c6028b05c2dd$run_str_23e4d944_a124_4fb2_92e2_c6028b05c2dd.invokeStatic(Unknown Source)\u001b[0;0m",
      "\u001b[1;31m\tat beaker_clojure_shell_23e4d944_a124_4fb2_92e2_c6028b05c2dd$run_str_23e4d944_a124_4fb2_92e2_c6028b05c2dd.invoke(Unknown Source)\u001b[0;0m",
      "\u001b[1;31m\tat clojure.lang.Var.invoke(Var.java:381)\u001b[0;0m",
      "\u001b[0;31m\tat com.twosigma.beakerx.clojure.evaluator.ClojureEvaluator.runCode(ClojureEvaluator.java:168)\u001b[0;0m",
      "\u001b[0;31m\tat com.twosigma.beakerx.clojure.evaluator.ClojureCodeRunner.call(ClojureCodeRunner.java:47)\u001b[0;0m",
      "\u001b[0;31m\tat com.twosigma.beakerx.clojure.evaluator.ClojureCodeRunner.call(ClojureCodeRunner.java:28)\u001b[0;0m",
      "\u001b[0;31m\tat java.util.concurrent.FutureTask.run(FutureTask.java:266)\u001b[0;0m",
      "\u001b[0;31m\tat java.lang.Thread.run(Thread.java:745)\u001b[0;0m"
     ]
    }
   ],
   "source": [
    "(display-masking-error-plots (->> flat-results-cumulative-cycles\n",
    "                                  (filter #(= best-cumulative-cycles-attack-strategy (:strategy %)))\n",
    "                                  (filter #(= (apply max cumulative-noise-sigmas) (:cumulative-noise-sigma %)))\n",
    "                                  (filter #(= (apply max (:known-record-counts base-configuration)) (:known-record-count %))))\n",
    "                             :cumulative-noise-sigma :known-record-count :strategy\n",
    "                             :plot-width 500\n",
    "                             :plot-height 500)"
   ]
  },
  {
   "cell_type": "code",
   "execution_count": 27,
   "metadata": {},
   "outputs": [
    {
     "ename": "java.lang.RuntimeException",
     "evalue": " Unable to resolve symbol",
     "output_type": "error",
     "traceback": [
      "\u001b[1;31mjava.lang.RuntimeException: Unable to resolve symbol: display-masking-error-plots in this context\u001b[0;0m",
      "\u001b[1;31m\tat clojure.lang.Util.runtimeException(Util.java:221)\u001b[0;0m",
      "\u001b[1;31m\tat clojure.lang.Compiler.resolveIn(Compiler.java:7299)\u001b[0;0m",
      "\u001b[1;31m\tat clojure.lang.Compiler.resolve(Compiler.java:7243)\u001b[0;0m",
      "\u001b[1;31m\tat clojure.lang.Compiler.analyzeSymbol(Compiler.java:7204)\u001b[0;0m",
      "\u001b[1;31m\tat clojure.lang.Compiler.analyze(Compiler.java:6752)\u001b[0;0m",
      "\u001b[1;31m\tat clojure.lang.Compiler.analyze(Compiler.java:6729)\u001b[0;0m",
      "\u001b[1;31m\tat clojure.lang.Compiler$InvokeExpr.parse(Compiler.java:3813)\u001b[0;0m",
      "\u001b[1;31m\tat clojure.lang.Compiler.analyzeSeq(Compiler.java:7005)\u001b[0;0m",
      "\u001b[1;31m\tat clojure.lang.Compiler.analyze(Compiler.java:6773)\u001b[0;0m",
      "\u001b[1;31m\tat clojure.lang.Compiler.analyze(Compiler.java:6729)\u001b[0;0m",
      "\u001b[1;31m\tat clojure.lang.Compiler$BodyExpr$Parser.parse(Compiler.java:6100)\u001b[0;0m",
      "\u001b[1;31m\tat clojure.lang.Compiler$FnMethod.parse(Compiler.java:5460)\u001b[0;0m",
      "\u001b[1;31m\tat clojure.lang.Compiler$FnExpr.parse(Compiler.java:4022)\u001b[0;0m",
      "\u001b[1;31m\tat clojure.lang.Compiler.analyzeSeq(Compiler.java:7001)\u001b[0;0m",
      "\u001b[1;31m\tat clojure.lang.Compiler.analyze(Compiler.java:6773)\u001b[0;0m",
      "\u001b[1;31m\tat clojure.lang.Compiler.eval(Compiler.java:7059)\u001b[0;0m",
      "\u001b[1;31m\tat clojure.lang.Compiler.load(Compiler.java:7514)\u001b[0;0m",
      "\u001b[1;31m\tat clojure.lang.Compiler.load(Compiler.java:7461)\u001b[0;0m",
      "\u001b[1;31m\tat clojure.core$load_reader.invokeStatic(core.clj:4053)\u001b[0;0m",
      "\u001b[1;31m\tat clojure.core$load_string.invokeStatic(core.clj:4055)\u001b[0;0m",
      "\u001b[1;31m\tat clojure.core$load_string.invoke(core.clj:4055)\u001b[0;0m",
      "\u001b[1;31m\tat beaker_clojure_shell_23e4d944_a124_4fb2_92e2_c6028b05c2dd$run_str_23e4d944_a124_4fb2_92e2_c6028b05c2dd.invokeStatic(Unknown Source)\u001b[0;0m",
      "\u001b[1;31m\tat beaker_clojure_shell_23e4d944_a124_4fb2_92e2_c6028b05c2dd$run_str_23e4d944_a124_4fb2_92e2_c6028b05c2dd.invoke(Unknown Source)\u001b[0;0m",
      "\u001b[1;31m\tat clojure.lang.Var.invoke(Var.java:381)\u001b[0;0m",
      "\u001b[0;31m\tat com.twosigma.beakerx.clojure.evaluator.ClojureEvaluator.runCode(ClojureEvaluator.java:168)\u001b[0;0m",
      "\u001b[0;31m\tat com.twosigma.beakerx.clojure.evaluator.ClojureCodeRunner.call(ClojureCodeRunner.java:47)\u001b[0;0m",
      "\u001b[0;31m\tat com.twosigma.beakerx.clojure.evaluator.ClojureCodeRunner.call(ClojureCodeRunner.java:28)\u001b[0;0m",
      "\u001b[0;31m\tat java.util.concurrent.FutureTask.run(FutureTask.java:266)\u001b[0;0m",
      "\u001b[0;31m\tat java.lang.Thread.run(Thread.java:745)\u001b[0;0m"
     ]
    }
   ],
   "source": [
    "(display-masking-error-plots (->> flat-results-cumulative-logistic\n",
    "                                  (filter #(= best-logistic-attack-strategy (:strategy %)))\n",
    "                                  (filter #(= (apply max cumulative-noise-sigmas) (:cumulative-noise-sigma %)))\n",
    "                                  (filter #(= (apply max (:known-record-counts base-configuration)) (:known-record-count %))))\n",
    "                             :cumulative-noise-sigma :known-record-count :strategy\n",
    "                             :plot-width 500\n",
    "                             :plot-height 500)"
   ]
  },
  {
   "cell_type": "code",
   "execution_count": null,
   "metadata": {},
   "outputs": [],
   "source": []
  },
  {
   "cell_type": "code",
   "execution_count": null,
   "metadata": {},
   "outputs": [],
   "source": []
  },
  {
   "cell_type": "code",
   "execution_count": null,
   "metadata": {},
   "outputs": [],
   "source": []
  },
  {
   "cell_type": "code",
   "execution_count": null,
   "metadata": {},
   "outputs": [],
   "source": []
  },
  {
   "cell_type": "code",
   "execution_count": null,
   "metadata": {},
   "outputs": [],
   "source": []
  },
  {
   "cell_type": "code",
   "execution_count": null,
   "metadata": {},
   "outputs": [],
   "source": []
  }
 ],
 "metadata": {
  "kernelspec": {
   "display_name": "Clojure",
   "language": "clojure",
   "name": "clojure"
  },
  "language_info": {
   "codemirror_mode": "Clojure",
   "file_extension": ".clj",
   "mimetype": "text/x-clojure",
   "name": "Clojure",
   "nbconverter_exporter": "",
   "version": "1.9.0"
  },
  "toc": {
   "base_numbering": 1,
   "nav_menu": {},
   "number_sections": false,
   "sideBar": false,
   "skip_h1_title": false,
   "title_cell": "Table of Contents",
   "title_sidebar": "Contents",
   "toc_cell": false,
   "toc_position": {},
   "toc_section_display": false,
   "toc_window_display": false
  }
 },
 "nbformat": 4,
 "nbformat_minor": 2
}
