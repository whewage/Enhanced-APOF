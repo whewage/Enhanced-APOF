{
 "cells": [
  {
   "cell_type": "code",
   "execution_count": 1,
   "metadata": {
    "scrolled": true
   },
   "outputs": [
    {
     "name": "stdout",
     "output_type": "stream",
     "text": [
      "Retrieving org/clojure/java.classpath/0.3.0/java.classpath-0.3.0.jar from central\n",
      "Retrieving org/clojure/tools.reader/1.3.2/tools.reader-1.3.2.jar from central\n",
      "Retrieving org/clojure/tools.namespace/0.3.1/tools.namespace-0.3.1.jar from central\n",
      "Retrieving clj-time/clj-time/0.14.0/clj-time-0.14.0.jar from clojars\n",
      "Compiling ppdsp.classifier.base\n",
      "Compiling ppdsp.classifier.inspectablearf\n",
      "Compiling ppdsp.classifier.moa-classifier\n",
      "Compiling ppdsp.classifier.random\n",
      "Compiling ppdsp.core\n",
      "Compiling ppdsp.dataset.base\n",
      "Compiling ppdsp.dataset.csv-dataset\n",
      "Compiling ppdsp.dataset.moa\n",
      "Compiling ppdsp.dataset.save-csv\n",
      "Compiling ppdsp.masking.attack-data\n",
      "Compiling ppdsp.masking.base\n",
      "Compiling ppdsp.masking.data_fitting\n",
      "Compiling ppdsp.masking.evaluation\n",
      "Compiling ppdsp.masking.optimize\n",
      "Compiling ppdsp.masking.projection\n",
      "Compiling ppdsp.masking.single-stage-cumulative-attack\n",
      "Compiling ppdsp.masking.two-stage-cumulative-attack\n",
      "Compiling ppdsp.masking.two-stage-independent-attack\n",
      "Compiling ppdsp.masking.utils\n",
      "Compiling ppdsp.scratchpad\n",
      "Compiling ppdsp.training\n",
      "Compiling ppdsp.trees.base\n",
      "Compiling ppdsp.trees.graph-tree\n",
      "Compiling ppdsp.trees.parse-model\n",
      "Compiling ppdsp.utils.complex-numbers\n",
      "Compiling ppdsp.utils.matrices\n",
      "Compiling ppdsp.utils.moving-average\n",
      "Compiling ppdsp.utils.random\n",
      "Compiling ppdsp.utils.stats\n",
      "Compiling ppdsp.utils.timing\n",
      "Compiling ppdsp.utils\n",
      "Created /home/beakerx/ppdsp/target/jvm/uberjar/ppdsp-0.1.0-SNAPSHOT.jar\n",
      "Created /home/beakerx/ppdsp/target/jvm/uberjar/ppdsp-0.1.0-SNAPSHOT-standalone.jar\n",
      "\n"
     ]
    }
   ],
   "source": [
    "%%bash\n",
    "lein uberjar"
   ]
  },
  {
   "cell_type": "code",
   "execution_count": 1,
   "metadata": {},
   "outputs": [
    {
     "data": {
      "application/vnd.jupyter.widget-view+json": {
       "model_id": "aa68c118-7e8f-4494-a637-48bccd15acbb",
       "version_major": 2,
       "version_minor": 0
      },
      "method": "display_data"
     },
     "metadata": {},
     "output_type": "display_data"
    },
    {
     "data": {
      "text/plain": [
       "null"
      ]
     },
     "execution_count": 1,
     "metadata": {},
     "output_type": "execute_result"
    }
   ],
   "source": [
    " %classpath add jar ../target/jvm/uberjar/ppdsp-0.1.0-SNAPSHOT-standalone.jar\n",
    "(clojure.lang.Compiler/loadFile \"jupyter_helpers.clj\")\n",
    "(require '[clojure.string :as string]\n",
    "         '[clojure.data.csv :as csv]\n",
    "         '[clojure.math.numeric-tower :refer [ceil]]\n",
    "         '[clojure.java.io :as io]\n",
    "         '[clojure.pprint :refer [pprint print-table]]\n",
    "         '[jupyter-helpers :refer [save-data load-data display-table \n",
    "                                   round-known-record-counts\n",
    "                                   ;;added by Waruni\n",
    "                                    read-data run-masking-experiments-cycles  \n",
    "                                     save-data-append-newline \n",
    "                                   validate-datafitting-results\n",
    "                                   ]]\n",
    "         '[ppdsp.classifier.moa-classifier :refer [hoeffding-tree ]]    ;;changed\n",
    "         '[ppdsp.dataset.base :refer [dataset-feature-count dataset-record-count dataset-class-count get-schema]]\n",
    "         '[ppdsp.dataset.csv-dataset :refer [read-csv-dataset]]\n",
    "         '[ppdsp.masking.evaluation :refer [flatten-masking-experiment-recoveries\n",
    "                                           unknown-record-relative-position\n",
    "                                           add-combined-result\n",
    "                                           get-cumulative-noise-sigma  calculate-avarage-information-loss-error \n",
    "                                            get-attack-count\n",
    "                                               ]]\n",
    "         '[ppdsp.masking.data_fitting :refer [kernel-regression-using-fastmath k-AEL-final-from-selected-kernel]] ;retrieve-accuracy-using-fitted-function \n",
    "         '[ppdsp.utils :refer [map-vals mean]]\n",
    "         '[incanter.core ]\n",
    "         )\n",
    "         \n"
   ]
  },
  {
   "cell_type": "markdown",
   "metadata": {},
   "source": [
    "## Experiment Configuration"
   ]
  },
  {
   "cell_type": "code",
   "execution_count": 2,
   "metadata": {},
   "outputs": [
    {
     "data": {
      "text/plain": [
       "#'beaker_clojure_shell_ffed9c88-eb8e-419b-b583-050baa9dafb0/dataset"
      ]
     },
     "execution_count": 2,
     "metadata": {},
     "output_type": "execute_result"
    }
   ],
   "source": [
    "(def dataset-label \"rbf-f\")\n",
    "(def dataset (read-csv-dataset \"datasets/moa-generators/rbf-f.csv\"\n",
    "                                99999999 ;; All records\n",
    "                                ;; Numeric features\n",
    "                                (into [] (map #(str \"att\" %) (range 1 11)))))"
   ]
  },
  {
   "cell_type": "code",
   "execution_count": 3,
   "metadata": {},
   "outputs": [
    {
     "data": {
      "text/plain": [
       "#'beaker_clojure_shell_ffed9c88-eb8e-419b-b583-050baa9dafb0/logistic-cumulative-noise-configuration"
      ]
     },
     "execution_count": 3,
     "metadata": {},
     "output_type": "execute_result"
    }
   ],
   "source": [
    "(def epsilons 0.2)\n",
    "(def feature-count (dataset-feature-count dataset))\n",
    "(def record-count (dataset-record-count dataset))\n",
    "(def window-size 10000)\n",
    "(def no-of-windows (int (ceil (/ record-count window-size ))) )\n",
    "(def cycle-sizes [500]) ;;Randomly select the cycle size -->initial cycle size has used to define the cycles\n",
    "(def attack-count (*(int (/(* window-size 0.05) 4)) no-of-windows )) ;total attack count for all windows. Attack using (window-count * 5%)\n",
    ";of known I/O pairs.Divided by 2 since 2 I/O pairs are used for one attack\n",
    "(def independent-noise-sigmas [0.25])\n",
    "(def cumulative-noise-sigmas (map #(get-cumulative-noise-sigma % record-count) independent-noise-sigmas))\n",
    "(def class-count (dataset-class-count dataset))\n",
    "\n",
    "(def base-configuration\n",
    "    {:dataset dataset\n",
    "     :projection-feature-counts [feature-count]\n",
    "     :projection-sigmas [1.0]\n",
    "     :translations [0]\n",
    "     :known-record-counts [4] ;;per attack->Total known record count = 2 * attack count \n",
    "     :known-record-ranges [1]\n",
    "     :classifier-fns {:hdt hoeffding-tree} \n",
    "     :attempt-count 3\n",
    "     :attack-count  attack-count\n",
    "     :threads-per-configuration 2\n",
    "     :threads-per-evaluation 1\n",
    "     :seed 1\n",
    "     :record-count record-count \n",
    "     :window-size window-size\n",
    "     :evaluations [:privacy :accuracy ]\n",
    "    }\n",
    ")\n",
    "\n",
    "(def logistic-cumulative-noise-configuration\n",
    "    (merge base-configuration\n",
    "           {:output-file (str \"workspace/\" dataset-label \"/logistic-cumulative-output.edn\")\n",
    "            :output-file-privacy-auc  (str \"workspace/\" dataset-label \"/logistic-cumulative-privacy-auc.csv\")\n",
    "            :attck-results-file  (str \"workspace/\" dataset-label \"/attack-results.edn\")\n",
    "            :output-file-privacy-attacks  (str \"workspace/\" dataset-label \"/logistic-cumulative-privacy-attacks.csv\")\n",
    "            :original-model-description (str \"workspace/\" dataset-label \"/original-model-description.edn\")\n",
    "            :original-probability-file (str \"workspace/\" dataset-label \"/original-AEL.csv\")\n",
    "            :masked-model-file (str \"workspace/\" dataset-label \"/masked-model-description.edn\")\n",
    "            :masked-probability-file (str \"workspace/\" dataset-label \"/masked-AEL.csv\")\n",
    "            :anytime-ael-file (str \"workspace/\" dataset-label \"/anytime-AEL.csv\")\n",
    "            :bp-window-file (str \"workspace/\" dataset-label \"/bp-per-window.csv\")\n",
    "            :maximum-fn-value 1  ;[1]\n",
    "            :growth-rate-k-initial 0.097; ; will be run for different k values upto 0.1 with tilda= 0.004\n",
    "            :cumulative-noise-sigmas cumulative-noise-sigmas\n",
    "            :cycle-sizes cycle-sizes\n",
    "            :epsilon epsilons\n",
    "            :attack-strategies [:a-rp :a-rpcn :a-rpcn-1]\n",
    "            :previous-AUC-file-to-update (str \"workspace/\" dataset-label \"/previous-AUC.csv\")\n",
    "            :previous-upper-bound-file-to-update(str \"workspace/\" dataset-label \"/previous-upper-bound.csv\")\n",
    "            :win-acc-details-file (str \"workspace/\" dataset-label \"/win-acc-details.edn\")\n",
    "            :win-acc-excel-file (str \"workspace/\" dataset-label \"/window-based-acc.csv\")\n",
    "            :average-error-win-file (str \"workspace/\" dataset-label \"/avg-error-per-win.csv\")\n",
    "            }\n",
    "    )\n",
    ")\n",
    "\n"
   ]
  },
  {
   "cell_type": "markdown",
   "metadata": {},
   "source": [
    "## Run Experiments"
   ]
  },
  {
   "cell_type": "code",
   "execution_count": 4,
   "metadata": {
    "scrolled": true
   },
   "outputs": [
    {
     "name": "stdout",
     "output_type": "stream",
     "text": [
      "Starting: privacy-evaluation -pf10 -ps1.0 -cs0.0016770258744685006 -tr0 -krc4 -krr1 -ac625 -krrp:middle -gr0.097 -ws10000\n"
     ]
    },
    {
     "name": "stderr",
     "output_type": "stream",
     "text": [
      "Dec 08, 2021 12:55:02 AM com.github.fommil.jni.JniLoader liberalLoad\n",
      "INFO: successfully loaded /tmp/jniloader7949564137078899457netlib-native_system-linux-x86_64.so\n"
     ]
    },
    {
     "name": "stdout",
     "output_type": "stream",
     "text": [
      "Growth Rate =  0.097\n",
      "Attacks were performed\n",
      "Breach probability and accuracy was calculated\n",
      "Written into the file\n",
      "\"Elapsed time: 713920.0179 msecs\"\n"
     ]
    },
    {
     "data": {
      "text/plain": [
       "null"
      ]
     },
     "execution_count": 4,
     "metadata": {},
     "output_type": "execute_result"
    }
   ],
   "source": [
    "(run-masking-experiments-cycles logistic-cumulative-noise-configuration)"
   ]
  },
  {
   "cell_type": "markdown",
   "metadata": {},
   "source": []
  },
  {
   "cell_type": "markdown",
   "metadata": {},
   "source": [
    "## Data Fitting Using Privacy and Accuracy Results"
   ]
  },
  {
   "cell_type": "code",
   "execution_count": null,
   "metadata": {},
   "outputs": [],
   "source": [
    ";;;;;;;;;;;;;;;;;;;Read Data from existing csv files \n",
    ";(def privacy-breach (to-matrix (load-data (str \"workspace/\" dataset-label \"/final-breach-probabilities.csv\"))))\n",
    ";(def accuracy (load-data (str \"workspace/\" dataset-label \"/masked-AEL.csv\")))\n",
    "(def accuracy-file (str \"workspace/\" dataset-label \"/masked-AEL.csv\"))\n",
    "(def user-threshold-testing [0.6 0.7 0.75 0.8 0.85 0.9 0.95 0.97])\n",
    "  ;;[0.5 0.55 0.6 0.65 0.7 0.75 0.8 0.85 0.9 0.95] 0.85 0.9 0.92 0.95 0.97\n",
    "(def datafitting-results-file (str \"workspace/\" dataset-label \"/results-data-fitting.csv\"))\n",
    "\n",
    ";;This is only for the data fitting to select the best kernel\n",
    "(kernel-regression-using-fastmath (:final-bp-file logistic-cumulative-noise-configuration) accuracy-file user-threshold-testing datafitting-results-file (:output-file-privacy-auc logistic-cumulative-noise-configuration))\n",
    "\n",
    ";(retrieve-accuracy-using-fitted-function (:final-bp-file logistic-cumulative-noise-configuration) accuracy-file privacy-threshold-by-user final-results-file (:output-file-privacy-auc logistic-cumulative-noise-configuration) variance-smooth-bp variance-smooth-auc)\n",
    ";;;;;;;;;;;;;;;;;;\n"
   ]
  },
  {
   "cell_type": "code",
   "execution_count": null,
   "metadata": {},
   "outputs": [],
   "source": [
    "(def accuracy-file (str \"workspace/\" dataset-label \"/masked-AEL.csv\"))\n",
    "(def privacy-threshold-by-user 0.97) ;0.75, 0.8, 0.85, 0.9, 0.95, 0.97 0.98 0.985 0.99 0.995\n",
    "(def final-AEL-file (str \"workspace/\" dataset-label \"/final-ael.csv\"))\n",
    "(k-AEL-final-from-selected-kernel (:final-bp-file logistic-cumulative-noise-configuration) accuracy-file (:output-file-privacy-auc logistic-cumulative-noise-configuration) privacy-threshold-by-user final-AEL-file)"
   ]
  },
  {
   "cell_type": "code",
   "execution_count": null,
   "metadata": {},
   "outputs": [],
   "source": []
  },
  {
   "cell_type": "markdown",
   "metadata": {},
   "source": [
    "## Validate Experiments"
   ]
  },
  {
   "cell_type": "code",
   "execution_count": null,
   "metadata": {
    "scrolled": false
   },
   "outputs": [],
   "source": [
    ";;; ;;For validating data fitting results run the experiments again with k-values received after data fitting for the privacy thresholds\n",
    "(def logistic-cumulative-noise-validation\n",
    "    (merge base-configuration\n",
    "           {:output-file (str \"workspace/\" dataset-label \"/validation/logistic-cumulative-output.edn\")\n",
    "            :output-file-privacy-auc  (str \"workspace/\" dataset-label \"/validation/logistic-cumulative-privacy-auc.csv\")\n",
    "            :attck-results-file  (str \"workspace/\" dataset-label \"/validation/attack-results.edn\")\n",
    "            :output-file-privacy-attacks  (str \"workspace/\" dataset-label \"/validation/logistic-cumulative-privacy-attacks.csv\")\n",
    "            :original-model-description (str \"workspace/\" dataset-label \"/validation/original-model-description.edn\")\n",
    "            :original-probability-file (str \"workspace/\" dataset-label \"/validation/original-AEL.csv\")\n",
    "            :masked-model-file (str \"workspace/\" dataset-label \"/validation/masked-model-description.edn\")\n",
    "            :masked-probability-file (str \"workspace/\" dataset-label \"/validation/masked-AEL.csv\")\n",
    "            :anytime-ael-file (str \"workspace/\" dataset-label \"/validation/anytime-AEL.csv\")\n",
    "            :final-bp-file (str \"workspace/\" dataset-label \"/validation/final-breach-probabilities.csv\")\n",
    "            :temp-bp-file (str \"workspace/\" dataset-label \"/validation/temp-bp.edn\")\n",
    "            :maximum-fn-value 1  ;[1]\n",
    "            :growth-rate-k-initial [0.0913 0.0738 0.1213 0.1001 0.0159] ;\n",
    "                 ;k from bp- Wave 0.6749 0.0491 0.0446 0.1013 0.0626 0.0101 ,,, 0.1224 0.0101 0.5792 0.1433 0.7770 \n",
    "                ;k from bp- Rational 0.1372 0.0224 0.0508 0.0947 0.0746 0.0738 ... 0.0913 0.0738 0.1213 0.1001 0.0159\n",
    "            :cumulative-noise-sigmas cumulative-noise-sigmas\n",
    "            :cycle-sizes cycle-sizes\n",
    "            :epsilon epsilons\n",
    "            :attack-strategies [:a-rp :a-rpcn :a-rpcn-1]\n",
    "            :previous-AUC-file-to-update (str \"workspace/\" dataset-label \"/validation/previous-AUC.csv\")\n",
    "            :previous-upper-bound-file-to-update(str \"workspace/\" dataset-label \"/validation/previous-upper-bound.csv\")\n",
    "             }\n",
    "    )\n",
    ")\n",
    "(validate-datafitting-results logistic-cumulative-noise-validation)"
   ]
  },
  {
   "cell_type": "code",
   "execution_count": null,
   "metadata": {
    "scrolled": false
   },
   "outputs": [],
   "source": []
  },
  {
   "cell_type": "code",
   "execution_count": null,
   "metadata": {},
   "outputs": [],
   "source": [
    ";;Accuracy per sample for logistic noise\n",
    "(def accuracy-cycles-outputfile-logistic (str \"workspace/\" dataset-label \"/logistic-accuracy-per-cycle.edn\"))\n",
    "(def details-outputfile-logistic (str \"workspace/\" dataset-label \"/logistic-accuracy-details.edn\"))\n",
    "(def full-cycle 1000)\n",
    "(def access-result-list-logistic (nth results-cumulative-logistic 0)) ;;nth is used to access elements of lists\n",
    " (def acc-after-masking-logistic (-> access-result-list-logistic :accuracy :hdt :raw-results )) ;;getting only accuracy results\n",
    " \n",
    "\n",
    "       ;;(accuracy-updating-cycles acc-after-masking-logistic accuracy-cycles-outputfile-logistic record-count full-cycle details-outputfile-logistic)"
   ]
  },
  {
   "cell_type": "code",
   "execution_count": null,
   "metadata": {},
   "outputs": [],
   "source": [
    ";;Average Accuracy for the attacked cycle period (Starting flat period of the logistic cycle)\n",
    "(def accuracy-details-file (load-data (str \"workspace/\" dataset-label \"/logistic-accuracy-details.edn\"))) ;;reading accuracy details from previously written file\n",
    "(def accuracy-for-attcked-period-file (str \"workspace/\" dataset-label \"/logistic-accuracy-attacked-period.csv\")) ;; write file of relavant accuracy details\n",
    "(def accuracy-details  (-> accuracy-details-file :sample-accuracy ))  \n",
    "(def full-cycle 1000)\n",
    "(def flat-record-length (:flat-record-length logistic-cumulative-noise-configuration))\n",
    "       (accuracy-for-flat-areas accuracy-details full-cycle flat-record-length record-count accuracy-for-attcked-period-file)"
   ]
  },
  {
   "cell_type": "code",
   "execution_count": null,
   "metadata": {},
   "outputs": [],
   "source": [
    "(def get-breach-probabilty (load-data (str \"workspace/\" dataset-label \"/logistic-attacks-per-cycle.edn\"))) ;;get the final breach probability written in the file\n",
    "(save-data-append-newline (str \"workspace/\" dataset-label \"/logistic-breach-probability.csv\") get-breach-probabilty) ;;append the value to another file for the operations after 100 runs"
   ]
  },
  {
   "cell_type": "markdown",
   "metadata": {},
   "source": [
    "## Cumulative vs. Independent Noise"
   ]
  },
  {
   "cell_type": "code",
   "execution_count": null,
   "metadata": {},
   "outputs": [],
   "source": [
    "(display-html (accuracy-privacy-tradeoff-legend independent-noise-sigmas cumulative-noise-sigmas))\n",
    "nil"
   ]
  },
  {
   "cell_type": "code",
   "execution_count": null,
   "metadata": {
    "scrolled": false
   },
   "outputs": [],
   "source": [
    "(doseq [epsilon epsilons]\n",
    "    (.display (accuracy-privacy-tradeoff-comparison results-cumulative results-independent results-rp-only\n",
    "                                                    :arf best-cumulative-attack-strategy best-independent-attack-strategy epsilon\n",
    "                                                    :plot-width 400\n",
    "                                                    :plot-height 400)))"
   ]
  },
  {
   "cell_type": "markdown",
   "metadata": {},
   "source": [
    "### Comparison of Square Distance From Origin\n",
    "\n",
    "Performance is the sum of the squares of: (1) Prob. of e-privacy breach and (2) classification error."
   ]
  },
  {
   "cell_type": "code",
   "execution_count": null,
   "metadata": {},
   "outputs": [],
   "source": [
    "(let [comparison (accuracy-privacy-tradeoff results-cumulative results-independent results-rp-only\n",
    "                               :arf best-cumulative-attack-strategy best-independent-attack-strategy epsilons\n",
    "                               :square-distance? true\n",
    "                               :row-per-noise-level? true\n",
    "                               :known-record-count (apply max (:known-record-counts base-configuration)))]\n",
    "    (save-data (str \"workspace/\" dataset-label \"/mask-comparison.edn\") comparison)\n",
    "    (display-table comparison))"
   ]
  },
  {
   "cell_type": "markdown",
   "metadata": {},
   "source": [
    "## Effect of Cumulative Noise on Accuracy over Time"
   ]
  },
  {
   "cell_type": "code",
   "execution_count": null,
   "metadata": {},
   "outputs": [],
   "source": [
    "(noise-accuracy-plot results-cumulative results-independent results-rp-only :arf\n",
    "                     :init-width 800\n",
    "                     :init-height 400)"
   ]
  },
  {
   "cell_type": "markdown",
   "metadata": {},
   "source": [
    "## Effect of Cumulative Noise on Privacy over Time"
   ]
  },
  {
   "cell_type": "code",
   "execution_count": null,
   "metadata": {},
   "outputs": [],
   "source": [
    "(display-masking-error-plots (->> flat-results-cumulative\n",
    "                                  (filter #(= best-cumulative-attack-strategy (:strategy %)))\n",
    "                                  (filter #(= (apply max cumulative-noise-sigmas) (:cumulative-noise-sigma %)))\n",
    "                                  (filter #(= (apply max (:known-record-counts base-configuration)) (:known-record-count %))))\n",
    "                             :cumulative-noise-sigma :known-record-count :strategy\n",
    "                             :plot-width 500\n",
    "                             :plot-height 500)"
   ]
  },
  {
   "cell_type": "code",
   "execution_count": null,
   "metadata": {},
   "outputs": [],
   "source": []
  }
 ],
 "metadata": {
  "kernelspec": {
   "display_name": "Clojure",
   "language": "clojure",
   "name": "clojure"
  },
  "language_info": {
   "codemirror_mode": "Clojure",
   "file_extension": ".clj",
   "mimetype": "text/x-clojure",
   "name": "Clojure",
   "nbconverter_exporter": "",
   "version": "1.9.0"
  },
  "toc": {
   "base_numbering": 1,
   "nav_menu": {},
   "number_sections": false,
   "sideBar": false,
   "skip_h1_title": false,
   "title_cell": "Table of Contents",
   "title_sidebar": "Contents",
   "toc_cell": false,
   "toc_position": {},
   "toc_section_display": false,
   "toc_window_display": false
  }
 },
 "nbformat": 4,
 "nbformat_minor": 2
}
