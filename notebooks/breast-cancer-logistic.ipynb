{
 "cells": [
  {
   "cell_type": "code",
   "execution_count": 1,
   "metadata": {
    "scrolled": true
   },
   "outputs": [
    {
     "name": "stdout",
     "output_type": "stream",
     "text": [
      "Retrieving org/clojure/java.classpath/0.3.0/java.classpath-0.3.0.jar from central\n",
      "Retrieving org/clojure/tools.reader/1.3.2/tools.reader-1.3.2.jar from central\n",
      "Retrieving org/clojure/tools.namespace/0.3.1/tools.namespace-0.3.1.jar from central\n",
      "Retrieving clj-time/clj-time/0.14.0/clj-time-0.14.0.jar from clojars\n",
      "Compiling ppdsp.classifier.base\n",
      "Compiling ppdsp.classifier.inspectablearf\n",
      "Compiling ppdsp.classifier.moa-classifier\n",
      "Compiling ppdsp.classifier.random\n",
      "Compiling ppdsp.core\n",
      "Compiling ppdsp.dataset.base\n",
      "Compiling ppdsp.dataset.csv-dataset\n",
      "Compiling ppdsp.dataset.moa\n",
      "Compiling ppdsp.dataset.save-csv\n",
      "Compiling ppdsp.masking.attack-data\n",
      "Compiling ppdsp.masking.base\n",
      "Compiling ppdsp.masking.data_fitting\n",
      "Compiling ppdsp.masking.evaluation\n",
      "Compiling ppdsp.masking.optimize\n",
      "Compiling ppdsp.masking.projection\n",
      "Compiling ppdsp.masking.single-stage-cumulative-attack\n",
      "Compiling ppdsp.masking.two-stage-cumulative-attack\n",
      "Compiling ppdsp.masking.two-stage-independent-attack\n",
      "Compiling ppdsp.masking.utils\n",
      "Compiling ppdsp.scratchpad\n",
      "Compiling ppdsp.training\n",
      "Compiling ppdsp.trees.base\n",
      "Compiling ppdsp.trees.graph-tree\n",
      "Compiling ppdsp.trees.parse-model\n",
      "Compiling ppdsp.utils.complex-numbers\n",
      "Compiling ppdsp.utils.matrices\n",
      "Compiling ppdsp.utils.moving-average\n",
      "Compiling ppdsp.utils.random\n",
      "Compiling ppdsp.utils.stats\n",
      "Compiling ppdsp.utils.timing\n",
      "Compiling ppdsp.utils\n",
      "Created /home/beakerx/ppdsp/target/jvm/uberjar/ppdsp-0.1.0-SNAPSHOT.jar\n",
      "Created /home/beakerx/ppdsp/target/jvm/uberjar/ppdsp-0.1.0-SNAPSHOT-standalone.jar\n",
      "\n"
     ]
    }
   ],
   "source": [
    "%%bash\n",
    "lein uberjar"
   ]
  },
  {
   "cell_type": "code",
   "execution_count": 2,
   "metadata": {},
   "outputs": [
    {
     "data": {
      "application/vnd.jupyter.widget-view+json": {
       "model_id": "76a98cba-8beb-4723-812c-a9ff4f462cf6",
       "version_major": 2,
       "version_minor": 0
      },
      "method": "display_data"
     },
     "metadata": {},
     "output_type": "display_data"
    },
    {
     "data": {
      "text/plain": [
       "null"
      ]
     },
     "execution_count": 2,
     "metadata": {},
     "output_type": "execute_result"
    }
   ],
   "source": [
    " %classpath add jar ../target/jvm/uberjar/ppdsp-0.1.0-SNAPSHOT-standalone.jar\n",
    "(clojure.lang.Compiler/loadFile \"jupyter_helpers.clj\")\n",
    "(require '[clojure.string :as string]\n",
    "         '[clojure.data.csv :as csv]\n",
    "         '[clojure.java.io :as io]\n",
    "         '[clojure.pprint :refer [pprint print-table]]\n",
    "         '[jupyter-helpers :refer [save-data load-data display-table \n",
    "                                  ;; display-masking-error-plots  \n",
    "                                  ;; attack-strategy-comparison-plots \n",
    "                                   ;;noise-accuracy-plot accuracy-privacy-tradeoff-comparison\n",
    "                                  ;; display-html accuracy-privacy-tradeoff-legend\n",
    "                                   ;accuracy-privacy-tradeoff attack-strategy-comparison\n",
    "                                   round-known-record-counts\n",
    "                                   ;;added by Waruni\n",
    "                                    read-data run-masking-experiments-cycles     accuracy-updating-cycles   \n",
    "                                     save-data-append-newline  ;;accuracy-for-flat-areas \n",
    "                                   attack-per-cycle validate-datafitting-results\n",
    "                                   ]]\n",
    "         '[ppdsp.classifier.moa-classifier :refer [hoeffding-tree ]]    ;;changed\n",
    "         '[ppdsp.dataset.base :refer [dataset-feature-count dataset-record-count dataset-class-count get-schema]]\n",
    "         '[ppdsp.dataset.csv-dataset :refer [read-csv-dataset]]\n",
    "         '[ppdsp.masking.evaluation :refer [flatten-masking-experiment-recoveries\n",
    "                                           unknown-record-relative-position\n",
    "                                           add-combined-result\n",
    "                                           get-cumulative-noise-sigma  calculate-avarage-information-loss \n",
    "                                            get-attack-count\n",
    "                                               ]]\n",
    "         '[ppdsp.masking.data_fitting :refer [kernel-regression-using-fastmath k-AEL-final-from-selected-kernel]] ;retrieve-accuracy-using-fitted-function\n",
    "         '[ppdsp.utils :refer [map-vals mean]])\n",
    ";;(import '[java.lang.instrument Instrumentation])"
   ]
  },
  {
   "cell_type": "markdown",
   "metadata": {},
   "source": [
    "## Experiment Configuration"
   ]
  },
  {
   "cell_type": "code",
   "execution_count": 3,
   "metadata": {},
   "outputs": [
    {
     "data": {
      "text/plain": [
       "#'beaker_clojure_shell_b3f5b94b-b512-4d9a-9ee4-9326e64edfa4/dataset"
      ]
     },
     "execution_count": 3,
     "metadata": {},
     "output_type": "execute_result"
    }
   ],
   "source": [
    "(def dataset-label \"breast-cancer\")\n",
    "(def dataset (read-csv-dataset \"datasets/breast-cancer/breast-cancer.csv\"\n",
    "                                99999999 ;; All records\n",
    "                                ;; Numeric features\n",
    "                                [\"clump_thickness\" \"uniformity_cell_size\" \"uniformity_cell_shape\" \"marginal_adhesion\"\n",
    "                                 \"single_epithelial_cell_size\" \"bare_nuclei\" \"bland_chromatin\" \"normal_nucleoli\" \"mitoses\"]))"
   ]
  },
  {
   "cell_type": "code",
   "execution_count": 4,
   "metadata": {},
   "outputs": [
    {
     "data": {
      "text/plain": [
       "#'beaker_clojure_shell_b3f5b94b-b512-4d9a-9ee4-9326e64edfa4/logistic-cumulative-noise-configuration"
      ]
     },
     "execution_count": 4,
     "metadata": {},
     "output_type": "execute_result"
    }
   ],
   "source": [
    "(def epsilons 0.2)\n",
    "(def feature-count (dataset-feature-count dataset))\n",
    "(def record-count (dataset-record-count dataset))\n",
    "(def cycle-sizes [1000]) ;;Half of the cycle size [500 1000 2000 4000]\n",
    "(def attack-count (int (/(* record-count 0.05) 4)))  ;;attack count = (record-count * 5%)/4 as for each attack 4 known I/O pairsairs\n",
    "(def independent-noise-sigmas [0.25])\n",
    "(def cumulative-noise-sigmas (map #(get-cumulative-noise-sigma % record-count) independent-noise-sigmas))\n",
    "(def class-count (dataset-class-count dataset))\n",
    "\n",
    "\n",
    "(def base-configuration\n",
    "    {:dataset dataset\n",
    "     :projection-feature-counts [feature-count]\n",
    "     :projection-sigmas [1.0]\n",
    "     :translations [0]\n",
    "     :known-record-counts [4] ;;per attack->Total known record count = 4 * attack count = 5% of the record count\n",
    "     :known-record-ranges [1]\n",
    "     :classifier-fns {:hdt hoeffding-tree} \n",
    "     :attempt-count 3\n",
    "     :attack-count  attack-count\n",
    "     :threads-per-configuration 2\n",
    "     :threads-per-evaluation 1\n",
    "     :seed 1\n",
    "     ;:evaluations [:privacy-auc :accuracy :privacy-attacks]\n",
    "     :evaluations [:privacy :accuracy ]\n",
    "    }\n",
    ")\n",
    "\n",
    "(def logistic-cumulative-noise-configuration\n",
    "    (merge base-configuration\n",
    "           {:output-file (str \"workspace/\" dataset-label \"/logistic-cumulative-output.edn\")\n",
    "            :output-file-privacy-auc  (str \"workspace/\" dataset-label \"/logistic-cumulative-privacy-auc.csv\")\n",
    "            :attck-results-file  (str \"workspace/\" dataset-label \"/attack-results.edn\")\n",
    "            :output-file-privacy-attacks  (str \"workspace/\" dataset-label \"/logistic-cumulative-privacy-attacks.csv\")\n",
    "            :original-model-description (str \"workspace/\" dataset-label \"/original-model-description.edn\")\n",
    "            :original-probability-file (str \"workspace/\" dataset-label \"/original-AEL.csv\")\n",
    "            :masked-model-file (str \"workspace/\" dataset-label \"/masked-model-description.edn\")\n",
    "            :masked-probability-file (str \"workspace/\" dataset-label \"/masked-AEL.csv\")\n",
    "            :final-bp-file (str \"workspace/\" dataset-label \"/final-breach-probabilities.csv\")\n",
    "            :temp-bp-file (str \"workspace/\" dataset-label \"/temp-bp.edn\")\n",
    "            :maximum-fn-value 1  ;[1]\n",
    "            ;:growth-rate-k [0.0015 0.003 0.006 0.0125 0.025 0.05 0.1] ;0.0015 0.003 0.006 0.0125 0.025 0.05 0.1\n",
    "            :growth-rate-k-initial 0.005 ; will be run for different k values upto 0.1 with tilda= 0.002 \n",
    "            :cumulative-noise-sigmas cumulative-noise-sigmas\n",
    "            :cycle-sizes cycle-sizes\n",
    "            :epsilon epsilons\n",
    "            :attack-strategies [:a-rp :a-rpcn :a-rpcn-1]\n",
    "            ;;:cycle-size-upper-bound (load-data (str \"workspace/\" dataset-label \"/previous-upper-bound.csv\"))\n",
    "            ;;:cycle-size-upper-bound previous-ub\n",
    "            ;;:previous-AUC (load-data (str \"workspace/\" dataset-label \"/previous-AUC.csv\")) \n",
    "            ;;:pre-AUC previous-AUC\n",
    "            ;:bandwidth initial-f-value\n",
    "            :previous-AUC-file-to-update (str \"workspace/\" dataset-label \"/previous-AUC.csv\")\n",
    "            :previous-upper-bound-file-to-update(str \"workspace/\" dataset-label \"/previous-upper-bound.csv\")\n",
    "            ;;:flat-record-length 200  ;;indicates the length of the flat period of the cycle according to the logistic function. depend on the cycle size\n",
    "            }\n",
    "    )\n",
    ")\n"
   ]
  },
  {
   "cell_type": "markdown",
   "metadata": {},
   "source": [
    "## Run Experiments and Write Results (AEL & BP) to Files"
   ]
  },
  {
   "cell_type": "code",
   "execution_count": 4,
   "metadata": {
    "scrolled": true
   },
   "outputs": [
    {
     "name": "stdout",
     "output_type": "stream",
     "text": [
      "Starting: privacy-evaluation -pf9 -ps1.0 -cs0.003749719937933765 -tr0 -cz2000 -krc4 -krr1 -ac125 -krrp:middle -gr0.005\n"
     ]
    },
    {
     "name": "stderr",
     "output_type": "stream",
     "text": [
      "Mar 31, 2021 2:24:52 AM com.github.fommil.jni.JniLoader liberalLoad\n",
      "INFO: successfully loaded /tmp/jniloader1736868227692383832netlib-native_system-linux-x86_64.so\n"
     ]
    },
    {
     "name": "stdout",
     "output_type": "stream",
     "text": [
      "Growth Rate =  0.005\n",
      "Attacks were performed\n",
      "Breach probability was calculated\n",
      "Written into the file\n",
      "\"Elapsed time: 127393.0963 msecs\"\n",
      "Starting: privacy-evaluation -pf9 -ps1.0 -cs0.003749719937933765 -tr0 -cz2000 -krc4 -krr1 -ac125 -krrp:middle -gr0.009\n",
      "Growth Rate =  0.009\n",
      "Attacks were performed\n",
      "Breach probability was calculated\n",
      "Written into the file\n",
      "\"Elapsed time: 103904.5428 msecs\"\n",
      "Starting: privacy-evaluation -pf9 -ps1.0 -cs0.003749719937933765 -tr0 -cz2000 -krc4 -krr1 -ac125 -krrp:middle -gr0.013\n",
      "Growth Rate =  0.013\n",
      "Attacks were performed\n",
      "Breach probability was calculated\n",
      "Written into the file\n",
      "\"Elapsed time: 101317.2123 msecs\"\n",
      "Starting: privacy-evaluation -pf9 -ps1.0 -cs0.003749719937933765 -tr0 -cz2000 -krc4 -krr1 -ac125 -krrp:middle -gr0.017\n",
      "Growth Rate =  0.017\n",
      "Attacks were performed\n",
      "Breach probability was calculated\n",
      "Written into the file\n",
      "\"Elapsed time: 101145.0097 msecs\"\n",
      "Starting: privacy-evaluation -pf9 -ps1.0 -cs0.003749719937933765 -tr0 -cz2000 -krc4 -krr1 -ac125 -krrp:middle -gr0.021\n",
      "Growth Rate =  0.021\n",
      "Attacks were performed\n",
      "Breach probability was calculated\n",
      "Written into the file\n",
      "\"Elapsed time: 102795.9462 msecs\"\n",
      "Starting: privacy-evaluation -pf9 -ps1.0 -cs0.003749719937933765 -tr0 -cz2000 -krc4 -krr1 -ac125 -krrp:middle -gr0.025\n",
      "Growth Rate =  0.025\n",
      "Attacks were performed\n",
      "Breach probability was calculated\n",
      "Written into the file\n",
      "\"Elapsed time: 102261.8657 msecs\"\n",
      "Starting: privacy-evaluation -pf9 -ps1.0 -cs0.003749719937933765 -tr0 -cz2000 -krc4 -krr1 -ac125 -krrp:middle -gr0.029\n",
      "Growth Rate =  0.029\n",
      "Attacks were performed\n",
      "Breach probability was calculated\n",
      "Written into the file\n",
      "\"Elapsed time: 102209.3928 msecs\"\n",
      "Starting: privacy-evaluation -pf9 -ps1.0 -cs0.003749719937933765 -tr0 -cz2000 -krc4 -krr1 -ac125 -krrp:middle -gr0.033\n",
      "Growth Rate =  0.033\n",
      "Attacks were performed\n",
      "Breach probability was calculated\n",
      "Written into the file\n",
      "\"Elapsed time: 104624.0281 msecs\"\n",
      "Starting: privacy-evaluation -pf9 -ps1.0 -cs0.003749719937933765 -tr0 -cz2000 -krc4 -krr1 -ac125 -krrp:middle -gr0.037\n",
      "Growth Rate =  0.037\n",
      "Attacks were performed\n",
      "Breach probability was calculated\n",
      "Written into the file\n",
      "\"Elapsed time: 102829.5273 msecs\"\n",
      "Starting: privacy-evaluation -pf9 -ps1.0 -cs0.003749719937933765 -tr0 -cz2000 -krc4 -krr1 -ac125 -krrp:middle -gr0.041\n",
      "Growth Rate =  0.041\n",
      "Attacks were performed\n",
      "Breach probability was calculated\n",
      "Written into the file\n",
      "\"Elapsed time: 105250.51 msecs\"\n",
      "Starting: privacy-evaluation -pf9 -ps1.0 -cs0.003749719937933765 -tr0 -cz2000 -krc4 -krr1 -ac125 -krrp:middle -gr0.045\n",
      "Growth Rate =  0.045\n",
      "Attacks were performed\n",
      "Breach probability was calculated\n",
      "Written into the file\n",
      "\"Elapsed time: 102701.6159 msecs\"\n",
      "Starting: privacy-evaluation -pf9 -ps1.0 -cs0.003749719937933765 -tr0 -cz2000 -krc4 -krr1 -ac125 -krrp:middle -gr0.049\n",
      "Growth Rate =  0.049\n",
      "Attacks were performed\n",
      "Breach probability was calculated\n",
      "Written into the file\n",
      "\"Elapsed time: 104112.1741 msecs\"\n",
      "Starting: privacy-evaluation -pf9 -ps1.0 -cs0.003749719937933765 -tr0 -cz2000 -krc4 -krr1 -ac125 -krrp:middle -gr0.053\n",
      "Growth Rate =  0.053\n",
      "Attacks were performed\n",
      "Breach probability was calculated\n",
      "Written into the file\n",
      "\"Elapsed time: 104381.6305 msecs\"\n",
      "Starting: privacy-evaluation -pf9 -ps1.0 -cs0.003749719937933765 -tr0 -cz2000 -krc4 -krr1 -ac125 -krrp:middle -gr0.057\n",
      "Growth Rate =  0.057\n",
      "Attacks were performed\n",
      "Breach probability was calculated\n",
      "Written into the file\n",
      "\"Elapsed time: 104810.9258 msecs\"\n",
      "Starting: privacy-evaluation -pf9 -ps1.0 -cs0.003749719937933765 -tr0 -cz2000 -krc4 -krr1 -ac125 -krrp:middle -gr0.061\n",
      "Growth Rate =  0.061\n",
      "Attacks were performed\n",
      "Breach probability was calculated\n",
      "Written into the file\n",
      "\"Elapsed time: 102121.5671 msecs\"\n",
      "Starting: privacy-evaluation -pf9 -ps1.0 -cs0.003749719937933765 -tr0 -cz2000 -krc4 -krr1 -ac125 -krrp:middle -gr0.065\n",
      "Growth Rate =  0.065\n",
      "Attacks were performed\n",
      "Breach probability was calculated\n",
      "Written into the file\n",
      "\"Elapsed time: 104538.0483 msecs\"\n",
      "Starting: privacy-evaluation -pf9 -ps1.0 -cs0.003749719937933765 -tr0 -cz2000 -krc4 -krr1 -ac125 -krrp:middle -gr0.069\n",
      "Growth Rate =  0.069\n",
      "Attacks were performed\n",
      "Breach probability was calculated\n",
      "Written into the file\n",
      "\"Elapsed time: 108039.5821 msecs\"\n",
      "Starting: privacy-evaluation -pf9 -ps1.0 -cs0.003749719937933765 -tr0 -cz2000 -krc4 -krr1 -ac125 -krrp:middle -gr0.073\n",
      "Growth Rate =  0.073\n",
      "Attacks were performed\n",
      "Breach probability was calculated\n",
      "Written into the file\n",
      "\"Elapsed time: 105496.1339 msecs\"\n",
      "Starting: privacy-evaluation -pf9 -ps1.0 -cs0.003749719937933765 -tr0 -cz2000 -krc4 -krr1 -ac125 -krrp:middle -gr0.077\n",
      "Growth Rate =  0.077\n",
      "Attacks were performed\n",
      "Breach probability was calculated\n",
      "Written into the file\n",
      "\"Elapsed time: 104422.9065 msecs\"\n",
      "Starting: privacy-evaluation -pf9 -ps1.0 -cs0.003749719937933765 -tr0 -cz2000 -krc4 -krr1 -ac125 -krrp:middle -gr0.081\n",
      "Growth Rate =  0.081\n",
      "Attacks were performed\n",
      "Breach probability was calculated\n",
      "Written into the file\n",
      "\"Elapsed time: 103691.318 msecs\"\n",
      "Starting: privacy-evaluation -pf9 -ps1.0 -cs0.003749719937933765 -tr0 -cz2000 -krc4 -krr1 -ac125 -krrp:middle -gr0.085\n",
      "Growth Rate =  0.085\n",
      "Attacks were performed\n",
      "Breach probability was calculated\n",
      "Written into the file\n",
      "\"Elapsed time: 107565.7082 msecs\"\n",
      "Starting: privacy-evaluation -pf9 -ps1.0 -cs0.003749719937933765 -tr0 -cz2000 -krc4 -krr1 -ac125 -krrp:middle -gr0.089\n",
      "Growth Rate =  0.089\n",
      "Attacks were performed\n",
      "Breach probability was calculated\n",
      "Written into the file\n",
      "\"Elapsed time: 101861.5835 msecs\"\n",
      "Starting: privacy-evaluation -pf9 -ps1.0 -cs0.003749719937933765 -tr0 -cz2000 -krc4 -krr1 -ac125 -krrp:middle -gr0.093\n",
      "Growth Rate =  0.093\n",
      "Attacks were performed\n",
      "Breach probability was calculated\n",
      "Written into the file\n",
      "\"Elapsed time: 103713.5974 msecs\"\n",
      "Starting: privacy-evaluation -pf9 -ps1.0 -cs0.003749719937933765 -tr0 -cz2000 -krc4 -krr1 -ac125 -krrp:middle -gr0.097\n",
      "Growth Rate =  0.097\n",
      "Attacks were performed\n",
      "Breach probability was calculated\n",
      "Written into the file\n",
      "\"Elapsed time: 106031.6997 msecs\"\n"
     ]
    },
    {
     "data": {
      "text/plain": [
       "null"
      ]
     },
     "execution_count": 4,
     "metadata": {},
     "output_type": "execute_result"
    }
   ],
   "source": [
    "(run-masking-experiments-cycles logistic-cumulative-noise-configuration)"
   ]
  },
  {
   "cell_type": "markdown",
   "metadata": {},
   "source": [
    "## Data Fitting Using Privacy and Accuracy Results"
   ]
  },
  {
   "cell_type": "code",
   "execution_count": 5,
   "metadata": {},
   "outputs": [
    {
     "data": {
      "text/plain": [
       "[null, null, null, null, null, null, null, null]"
      ]
     },
     "execution_count": 5,
     "metadata": {},
     "output_type": "execute_result"
    }
   ],
   "source": [
    "(def accuracy-file (str \"workspace/\" dataset-label \"/masked-AEL.csv\"))\n",
    "(def user-threshold-testing [0.6 0.7 0.75 0.8 0.85 0.9 0.95 0.97])\n",
    ";[0.5 0.55 0.6 0.65 0.7 0.75 0.8 0.85 0.9 0.95] 0.85 0.9 0.92 0.95 0.97\n",
    "(def datafitting-results-file (str \"workspace/\" dataset-label \"/results-data-fitting.csv\"))\n",
    "\n",
    "\n",
    "(kernel-regression-using-fastmath (:final-bp-file logistic-cumulative-noise-configuration) accuracy-file user-threshold-testing datafitting-results-file (:output-file-privacy-auc logistic-cumulative-noise-configuration))\n",
    "\n"
   ]
  },
  {
   "cell_type": "code",
   "execution_count": 14,
   "metadata": {},
   "outputs": [
    {
     "data": {
      "text/plain": [
       "null"
      ]
     },
     "execution_count": 14,
     "metadata": {},
     "output_type": "execute_result"
    }
   ],
   "source": [
    "(def accuracy-file (str \"workspace/\" dataset-label \"/masked-AEL.csv\"))\n",
    "(def final-AEL-file (str \"workspace/\" dataset-label \"/final-ael.csv\"))\n",
    "(def privacy-threshold-by-user 0.995)  ;;0.75, 0.8, 0.85, 0.9, 0.95, 0.97 0.98 0.985 0.99 0.995 should run for all these values\n",
    "(k-AEL-final-from-selected-kernel (:final-bp-file logistic-cumulative-noise-configuration) accuracy-file (:output-file-privacy-auc logistic-cumulative-noise-configuration) privacy-threshold-by-user final-AEL-file)"
   ]
  },
  {
   "cell_type": "markdown",
   "metadata": {},
   "source": [
    "## Validate Experiments"
   ]
  },
  {
   "cell_type": "code",
   "execution_count": 15,
   "metadata": {
    "scrolled": true
   },
   "outputs": [
    {
     "name": "stdout",
     "output_type": "stream",
     "text": [
      "Starting: privacy-evaluation -pf9 -ps1.0 -cs0.003749719937933765 -tr0 -cz2000 -krc4 -krr1 -ac125 -krrp:middle -gr1.1502\n",
      "Growth Rate =  1.1502\n",
      "Attacks were performed\n",
      "Breach probability was calculated\n",
      "Written into the file\n",
      "\"Elapsed time: 110028.8865 msecs\"\n",
      "Starting: privacy-evaluation -pf9 -ps1.0 -cs0.003749719937933765 -tr0 -cz2000 -krc4 -krr1 -ac125 -krrp:middle -gr1.0493\n",
      "Growth Rate =  1.0493\n",
      "Attacks were performed\n",
      "Breach probability was calculated\n",
      "Written into the file\n",
      "\"Elapsed time: 108983.2242 msecs\"\n",
      "Starting: privacy-evaluation -pf9 -ps1.0 -cs0.003749719937933765 -tr0 -cz2000 -krc4 -krr1 -ac125 -krrp:middle -gr1.1506\n",
      "Growth Rate =  1.1506\n",
      "Attacks were performed\n",
      "Breach probability was calculated\n",
      "Written into the file\n",
      "\"Elapsed time: 107974.8834 msecs\"\n",
      "Starting: privacy-evaluation -pf9 -ps1.0 -cs0.003749719937933765 -tr0 -cz2000 -krc4 -krr1 -ac125 -krrp:middle -gr0.9439\n",
      "Growth Rate =  0.9439\n",
      "Attacks were performed\n",
      "Breach probability was calculated\n",
      "Written into the file\n",
      "\"Elapsed time: 104895.0504 msecs\"\n",
      "Starting: privacy-evaluation -pf9 -ps1.0 -cs0.003749719937933765 -tr0 -cz2000 -krc4 -krr1 -ac125 -krrp:middle -gr0.8429\n",
      "Growth Rate =  0.8429\n",
      "Attacks were performed\n",
      "Breach probability was calculated\n",
      "Written into the file\n",
      "\"Elapsed time: 104195.6666 msecs\"\n",
      "Starting: privacy-evaluation -pf9 -ps1.0 -cs0.003749719937933765 -tr0 -cz2000 -krc4 -krr1 -ac125 -krrp:middle -gr0.7321\n",
      "Growth Rate =  0.7321\n",
      "Attacks were performed\n",
      "Breach probability was calculated\n",
      "Written into the file\n",
      "\"Elapsed time: 106929.548 msecs\"\n",
      "Starting: privacy-evaluation -pf9 -ps1.0 -cs0.003749719937933765 -tr0 -cz2000 -krc4 -krr1 -ac125 -krrp:middle -gr0.8618\n",
      "Growth Rate =  0.8618\n",
      "Attacks were performed\n",
      "Breach probability was calculated\n",
      "Written into the file\n",
      "\"Elapsed time: 107389.6744 msecs\"\n",
      "Starting: privacy-evaluation -pf9 -ps1.0 -cs0.003749719937933765 -tr0 -cz2000 -krc4 -krr1 -ac125 -krrp:middle -gr0.4133\n",
      "Growth Rate =  0.4133\n",
      "Attacks were performed\n",
      "Breach probability was calculated\n",
      "Written into the file\n",
      "\"Elapsed time: 106922.9438 msecs\"\n",
      "Starting: privacy-evaluation -pf9 -ps1.0 -cs0.003749719937933765 -tr0 -cz2000 -krc4 -krr1 -ac125 -krrp:middle -gr0.1204\n",
      "Growth Rate =  0.1204\n",
      "Attacks were performed\n",
      "Breach probability was calculated\n",
      "Written into the file\n",
      "\"Elapsed time: 107228.0139 msecs\"\n",
      "Starting: privacy-evaluation -pf9 -ps1.0 -cs0.003749719937933765 -tr0 -cz2000 -krc4 -krr1 -ac125 -krrp:middle -gr0.004\n",
      "Growth Rate =  0.004\n",
      "Attacks were performed\n",
      "Breach probability was calculated\n",
      "Written into the file\n",
      "\"Elapsed time: 105095.82 msecs\"\n"
     ]
    },
    {
     "data": {
      "text/plain": [
       "[null, null, null, null, null, null, null, null, null, null]"
      ]
     },
     "execution_count": 15,
     "metadata": {},
     "output_type": "execute_result"
    }
   ],
   "source": [
    ";;; ;;For validating data fitting results run the experiments again with k-values received after data fitting\n",
    "(def logistic-cumulative-noise-validation\n",
    "    (merge base-configuration\n",
    "           {:output-file (str \"workspace/\" dataset-label \"/validation/logistic-cumulative-output.edn\")\n",
    "            :output-file-privacy-auc  (str \"workspace/\" dataset-label \"/validation/logistic-cumulative-privacy-auc.csv\")\n",
    "            :attck-results-file  (str \"workspace/\" dataset-label \"/validation/attack-results.edn\")\n",
    "            :output-file-privacy-attacks  (str \"workspace/\" dataset-label \"/validation/logistic-cumulative-privacy-attacks.csv\")\n",
    "            :original-model-description (str \"workspace/\" dataset-label \"/validation/original-model-description.edn\")\n",
    "            :original-probability-file (str \"workspace/\" dataset-label \"/validation/original-AEL.csv\")\n",
    "            :masked-model-file (str \"workspace/\" dataset-label \"/validation/masked-model-description.edn\")\n",
    "            :masked-probability-file (str \"workspace/\" dataset-label \"/validation/masked-AEL.csv\")\n",
    "            :final-bp-file (str \"workspace/\" dataset-label \"/validation/final-breach-probabilities.csv\")\n",
    "            :temp-bp-file (str \"workspace/\" dataset-label \"/validation/temp-bp.edn\")\n",
    "            :maximum-fn-value 1  ;[1]\n",
    "            :growth-rate-k-initial [1.1502 1.0493 1.1506 0.9439 0.8429 0.7321 0.8618 0.4133 0.1204 0.0040] ;\n",
    "                 ;k from bp- Wave 1.1502 1.0493 1.1506 0.9439 0.8429 0.7321 0.8618 0.4133 0.1204 0.0040\n",
    "                ;k from bp- Rational 0.3248 0.2934 0.2330 0.1501 0.1868 0.3110 0.1724 0.1144 0.0697 0.0401\n",
    "            :cumulative-noise-sigmas cumulative-noise-sigmas\n",
    "            :cycle-sizes cycle-sizes\n",
    "            :epsilon epsilons\n",
    "            :attack-strategies [:a-rp :a-rpcn :a-rpcn-1]\n",
    "            :previous-AUC-file-to-update (str \"workspace/\" dataset-label \"/validation/previous-AUC.csv\")\n",
    "            :previous-upper-bound-file-to-update(str \"workspace/\" dataset-label \"/validation/previous-upper-bound.csv\")\n",
    "             }\n",
    "    )\n",
    ")\n",
    "(validate-datafitting-results logistic-cumulative-noise-validation)"
   ]
  },
  {
   "cell_type": "code",
   "execution_count": null,
   "metadata": {},
   "outputs": [],
   "source": []
  },
  {
   "cell_type": "code",
   "execution_count": 9,
   "metadata": {},
   "outputs": [
    {
     "data": {
      "text/plain": [
       "#'beaker_clojure_shell_3a305d4d-1ed5-4d27-83fd-2bc3d85a921a/flat-results-independent"
      ]
     },
     "execution_count": 9,
     "metadata": {},
     "output_type": "execute_result"
    }
   ],
   "source": [
    "(def output-independent (load-data (:output-file independent-noise-configuration)))\n",
    "(def original-accuracy-independent (-> output-independent :original :accuracy))\n",
    "(def results-independent (-> (filter #(contains? (set independent-noise-sigmas) (:independent-noise-sigma %))\n",
    "                                     (:results output-independent))\n",
    "                             (add-combined-result :score [:a-rp :a-rpin])\n",
    "                             (add-combined-result :score [:a-rp :a-rpin-1])))\n",
    "(def flat-results-independent (->> results-independent\n",
    "                                   flatten-masking-experiment-recoveries\n",
    "                                   (map #(assoc % :unknown-record-relative-position (unknown-record-relative-position %)))))"
   ]
  },
  {
   "cell_type": "code",
   "execution_count": 10,
   "metadata": {},
   "outputs": [
    {
     "data": {
      "text/plain": [
       "#'beaker_clojure_shell_3a305d4d-1ed5-4d27-83fd-2bc3d85a921a/flat-results-rp-only"
      ]
     },
     "execution_count": 10,
     "metadata": {},
     "output_type": "execute_result"
    }
   ],
   "source": [
    "(def output-rp-only (load-data (:output-file rp-only-configuration)))\n",
    "(def original-accuracy-rp-only (-> output-rp-only :original :accuracy))\n",
    "(def results-rp-only (-> (:results output-rp-only)))\n",
    "(def flat-results-rp-only (->> results-rp-only\n",
    "                               flatten-masking-experiment-recoveries\n",
    "                               (map #(assoc % :unknown-record-relative-position (unknown-record-relative-position %)))))"
   ]
  },
  {
   "cell_type": "markdown",
   "metadata": {},
   "source": [
    "## Comparison of Attack Strategies"
   ]
  },
  {
   "cell_type": "code",
   "execution_count": 11,
   "metadata": {
    "scrolled": false
   },
   "outputs": [
    {
     "data": {
      "application/vnd.jupyter.widget-view+json": {
       "model_id": "74cfab54-9fbb-4bfd-acc0-bb59e16cac19",
       "version_major": 2,
       "version_minor": 0
      },
      "method": "display_data"
     },
     "metadata": {},
     "output_type": "display_data"
    },
    {
     "data": {
      "application/vnd.jupyter.widget-view+json": {
       "model_id": "01606d3c-3dd1-4d3b-a5eb-ad891fcb6830",
       "version_major": 2,
       "version_minor": 0
      },
      "method": "display_data"
     },
     "metadata": {},
     "output_type": "display_data"
    },
    {
     "data": {
      "application/vnd.jupyter.widget-view+json": {
       "model_id": "a548b090-531e-4f5e-8e9c-78ea86da0fc3",
       "version_major": 2,
       "version_minor": 0
      },
      "method": "display_data"
     },
     "metadata": {},
     "output_type": "display_data"
    },
    {
     "data": {
      "application/vnd.jupyter.widget-view+json": {
       "model_id": "dd8ffe97-a750-4d4e-85ee-430f91a4c83f",
       "version_major": 2,
       "version_minor": 0
      },
      "method": "display_data"
     },
     "metadata": {},
     "output_type": "display_data"
    },
    {
     "data": {
      "application/vnd.jupyter.widget-view+json": {
       "model_id": "b95fce22-4f45-4ddd-b0a0-7ce24d1a3820",
       "version_major": 2,
       "version_minor": 0
      },
      "method": "display_data"
     },
     "metadata": {},
     "output_type": "display_data"
    },
    {
     "data": {
      "application/vnd.jupyter.widget-view+json": {
       "model_id": "e2a2ec7b-4a4e-4172-9ccf-5b865e6a1a7f",
       "version_major": 2,
       "version_minor": 0
      },
      "method": "display_data"
     },
     "metadata": {},
     "output_type": "display_data"
    },
    {
     "data": {
      "application/vnd.jupyter.widget-view+json": {
       "model_id": "a2063ffb-f232-453c-9922-d4bf97044be2",
       "version_major": 2,
       "version_minor": 0
      },
      "method": "display_data"
     },
     "metadata": {},
     "output_type": "display_data"
    },
    {
     "data": {
      "application/vnd.jupyter.widget-view+json": {
       "model_id": "91b663e0-821a-4eb2-b4c3-0433a2367014",
       "version_major": 2,
       "version_minor": 0
      },
      "method": "display_data"
     },
     "metadata": {},
     "output_type": "display_data"
    },
    {
     "data": {
      "text/plain": [
       "null"
      ]
     },
     "execution_count": 11,
     "metadata": {},
     "output_type": "execute_result"
    }
   ],
   "source": [
    "(doseq [epsilon epsilons]\n",
    "    (display-html (str \"<h3>Epsilon = \" epsilon \"</h3>\"))\n",
    "    (.display (attack-strategy-comparison-plots flat-results-cumulative :all epsilon\n",
    "                                                :plot-width 400\n",
    "                                                :plot-height 400\n",
    "                                                :show-legend? true))\n",
    "    (display-html (str \"<h4>Breakdown by noise amount</h4>\"))\n",
    "    (.display (attack-strategy-comparison-plots flat-results-cumulative :cumulative-noise-sigma epsilon\n",
    "                                                :plot-width 400\n",
    "                                                :plot-height 400\n",
    "                                                :show-legend? false)))"
   ]
  },
  {
   "cell_type": "code",
   "execution_count": 12,
   "metadata": {
    "scrolled": false
   },
   "outputs": [
    {
     "data": {
      "application/vnd.jupyter.widget-view+json": {
       "model_id": "def7db35-8d8f-4f61-8c50-49615ac8966e",
       "version_major": 2,
       "version_minor": 0
      },
      "method": "display_data"
     },
     "metadata": {},
     "output_type": "display_data"
    },
    {
     "data": {
      "application/vnd.jupyter.widget-view+json": {
       "model_id": "d50aa8c0-7fdb-4d73-80e4-9687e18f4041",
       "version_major": 2,
       "version_minor": 0
      },
      "method": "display_data"
     },
     "metadata": {},
     "output_type": "display_data"
    },
    {
     "data": {
      "application/vnd.jupyter.widget-view+json": {
       "model_id": "374b7490-34ef-45e7-90fb-9c1c228f6cc9",
       "version_major": 2,
       "version_minor": 0
      },
      "method": "display_data"
     },
     "metadata": {},
     "output_type": "display_data"
    },
    {
     "data": {
      "application/vnd.jupyter.widget-view+json": {
       "model_id": "9aa34e25-bd95-4a6a-bdeb-38f22fbe7db1",
       "version_major": 2,
       "version_minor": 0
      },
      "method": "display_data"
     },
     "metadata": {},
     "output_type": "display_data"
    },
    {
     "data": {
      "application/vnd.jupyter.widget-view+json": {
       "model_id": "ae94ee71-01fe-45f0-987a-19f22e59d9e4",
       "version_major": 2,
       "version_minor": 0
      },
      "method": "display_data"
     },
     "metadata": {},
     "output_type": "display_data"
    },
    {
     "data": {
      "application/vnd.jupyter.widget-view+json": {
       "model_id": "cf810957-664d-4f58-85c0-e19964641e72",
       "version_major": 2,
       "version_minor": 0
      },
      "method": "display_data"
     },
     "metadata": {},
     "output_type": "display_data"
    },
    {
     "data": {
      "application/vnd.jupyter.widget-view+json": {
       "model_id": "3e03f1ba-5b19-4536-9bd6-dbe41bbd2660",
       "version_major": 2,
       "version_minor": 0
      },
      "method": "display_data"
     },
     "metadata": {},
     "output_type": "display_data"
    },
    {
     "data": {
      "application/vnd.jupyter.widget-view+json": {
       "model_id": "f72a54f9-9f19-4351-8db3-a22d699d3203",
       "version_major": 2,
       "version_minor": 0
      },
      "method": "display_data"
     },
     "metadata": {},
     "output_type": "display_data"
    },
    {
     "data": {
      "text/plain": [
       "null"
      ]
     },
     "execution_count": 12,
     "metadata": {},
     "output_type": "execute_result"
    }
   ],
   "source": [
    "(doseq [epsilon epsilons]\n",
    "    (display-html (str \"<h3>Epsilon = \" epsilon \"</h3>\"))\n",
    "    (.display (attack-strategy-comparison-plots flat-results-independent :all epsilon\n",
    "                                                :plot-width 400\n",
    "                                                :plot-height 400\n",
    "                                                :show-legend? true))\n",
    "    (display-html (str \"<h4>Breakdown by noise amount</h4>\"))\n",
    "    (.display (attack-strategy-comparison-plots flat-results-independent :independent-noise-sigma epsilon\n",
    "                                                :plot-width 400\n",
    "                                                :plot-height 400\n",
    "                                                :show-legend? false)))"
   ]
  },
  {
   "cell_type": "code",
   "execution_count": 13,
   "metadata": {},
   "outputs": [
    {
     "data": {
      "application/vnd.jupyter.widget-view+json": {
       "model_id": "a95d3181-d336-4f8c-889c-97a7a288069d",
       "version_major": 2,
       "version_minor": 0
      },
      "method": "display_data"
     },
     "metadata": {},
     "output_type": "display_data"
    },
    {
     "data": {
      "text/plain": [
       "null"
      ]
     },
     "execution_count": 13,
     "metadata": {},
     "output_type": "execute_result"
    }
   ],
   "source": [
    "(let [comparison (attack-strategy-comparison flat-results-cumulative epsilons\n",
    "                                  :known-record-count (apply max (:known-record-counts base-configuration)))]\n",
    "    (save-data (str \"workspace/\" dataset-label \"/cumulative-attack-strategies-comparison.edn\") comparison)\n",
    "    (display-table comparison))"
   ]
  },
  {
   "cell_type": "code",
   "execution_count": 14,
   "metadata": {},
   "outputs": [
    {
     "data": {
      "application/vnd.jupyter.widget-view+json": {
       "model_id": "abcc6622-03c5-4bcf-a867-d578aefe2342",
       "version_major": 2,
       "version_minor": 0
      },
      "method": "display_data"
     },
     "metadata": {},
     "output_type": "display_data"
    },
    {
     "data": {
      "text/plain": [
       "null"
      ]
     },
     "execution_count": 14,
     "metadata": {},
     "output_type": "execute_result"
    }
   ],
   "source": [
    "(let [comparison (attack-strategy-comparison flat-results-independent epsilons\n",
    "                                  :known-record-count (apply max (:known-record-counts base-configuration)))]\n",
    "    (save-data (str \"workspace/\" dataset-label \"/independent-attack-strategies-comparison.edn\") comparison)\n",
    "    (display-table comparison))"
   ]
  },
  {
   "cell_type": "code",
   "execution_count": 15,
   "metadata": {},
   "outputs": [
    {
     "data": {
      "text/plain": [
       "#'beaker_clojure_shell_3a305d4d-1ed5-4d27-83fd-2bc3d85a921a/best-independent-attack-strategy"
      ]
     },
     "execution_count": 15,
     "metadata": {},
     "output_type": "execute_result"
    }
   ],
   "source": [
    "(def best-cumulative-attack-strategy :a-rpcn-1)\n",
    "(def best-independent-attack-strategy :a-rpin-1)"
   ]
  },
  {
   "cell_type": "markdown",
   "metadata": {},
   "source": [
    "## Cumulative vs. Independent Noise"
   ]
  },
  {
   "cell_type": "code",
   "execution_count": 16,
   "metadata": {},
   "outputs": [
    {
     "data": {
      "application/vnd.jupyter.widget-view+json": {
       "model_id": "32f2efff-9886-4e1e-822c-1d6b3f9659f9",
       "version_major": 2,
       "version_minor": 0
      },
      "method": "display_data"
     },
     "metadata": {},
     "output_type": "display_data"
    },
    {
     "data": {
      "text/plain": [
       "null"
      ]
     },
     "execution_count": 16,
     "metadata": {},
     "output_type": "execute_result"
    }
   ],
   "source": [
    "(display-html (accuracy-privacy-tradeoff-legend independent-noise-sigmas cumulative-noise-sigmas))\n",
    "nil"
   ]
  },
  {
   "cell_type": "code",
   "execution_count": 17,
   "metadata": {
    "scrolled": false
   },
   "outputs": [
    {
     "data": {
      "application/vnd.jupyter.widget-view+json": {
       "model_id": "09f5ed54-f277-4d74-9048-e9aa03ff7fdc",
       "version_major": 2,
       "version_minor": 0
      },
      "method": "display_data"
     },
     "metadata": {},
     "output_type": "display_data"
    },
    {
     "data": {
      "application/vnd.jupyter.widget-view+json": {
       "model_id": "ae32aadb-d0b7-4383-bbd0-7f4557980847",
       "version_major": 2,
       "version_minor": 0
      },
      "method": "display_data"
     },
     "metadata": {},
     "output_type": "display_data"
    },
    {
     "data": {
      "text/plain": [
       "null"
      ]
     },
     "execution_count": 17,
     "metadata": {},
     "output_type": "execute_result"
    }
   ],
   "source": [
    "(doseq [epsilon epsilons]\n",
    "    (.display (accuracy-privacy-tradeoff-comparison results-cumulative results-independent results-rp-only\n",
    "                                                    :arf best-cumulative-attack-strategy best-independent-attack-strategy epsilon\n",
    "                                                    :plot-width 400\n",
    "                                                    :plot-height 400)))"
   ]
  },
  {
   "cell_type": "markdown",
   "metadata": {},
   "source": [
    "### Comparison of Square Distance From Origin\n",
    "\n",
    "Performance is the sum of the squares of: (1) Prob. of e-privacy breach and (2) classification error."
   ]
  },
  {
   "cell_type": "code",
   "execution_count": 18,
   "metadata": {},
   "outputs": [
    {
     "data": {
      "application/vnd.jupyter.widget-view+json": {
       "model_id": "6d1edf24-d35d-4650-a3eb-000402c7a9d7",
       "version_major": 2,
       "version_minor": 0
      },
      "method": "display_data"
     },
     "metadata": {},
     "output_type": "display_data"
    },
    {
     "data": {
      "text/plain": [
       "null"
      ]
     },
     "execution_count": 18,
     "metadata": {},
     "output_type": "execute_result"
    }
   ],
   "source": [
    "(let [comparison (accuracy-privacy-tradeoff results-cumulative results-independent results-rp-only\n",
    "                               :arf best-cumulative-attack-strategy best-independent-attack-strategy epsilons\n",
    "                               :square-distance? true\n",
    "                               :row-per-noise-level? true\n",
    "                               :known-record-count (apply max (:known-record-counts base-configuration)))]\n",
    "    (save-data (str \"workspace/\" dataset-label \"/mask-comparison.edn\") comparison)\n",
    "    (display-table comparison))"
   ]
  },
  {
   "cell_type": "markdown",
   "metadata": {},
   "source": [
    "## Effect of Cumulative Noise on Accuracy over Time"
   ]
  },
  {
   "cell_type": "code",
   "execution_count": 19,
   "metadata": {},
   "outputs": [
    {
     "data": {
      "application/vnd.jupyter.widget-view+json": {
       "model_id": "48500e48-73f0-4a59-8e16-62e23d9916d6",
       "version_major": 2,
       "version_minor": 0
      },
      "method": "display_data"
     },
     "metadata": {},
     "output_type": "display_data"
    }
   ],
   "source": [
    "(noise-accuracy-plot results-cumulative results-independent results-rp-only :arf\n",
    "                     :init-width 800\n",
    "                     :init-height 400)"
   ]
  },
  {
   "cell_type": "markdown",
   "metadata": {},
   "source": [
    "## Effect of Cumulative Noise on Privacy over Time"
   ]
  },
  {
   "cell_type": "code",
   "execution_count": 20,
   "metadata": {},
   "outputs": [
    {
     "data": {
      "application/vnd.jupyter.widget-view+json": {
       "model_id": "d280afe9-5115-4233-9068-ab5fedd798df",
       "version_major": 2,
       "version_minor": 0
      },
      "method": "display_data"
     },
     "metadata": {},
     "output_type": "display_data"
    }
   ],
   "source": [
    "(display-masking-error-plots (->> flat-results-cumulative\n",
    "                                  (filter #(= best-cumulative-attack-strategy (:strategy %)))\n",
    "                                  (filter #(= (apply max cumulative-noise-sigmas) (:cumulative-noise-sigma %)))\n",
    "                                  (filter #(= (apply max (:known-record-counts base-configuration)) (:known-record-count %))))\n",
    "                             :cumulative-noise-sigma :known-record-count :strategy\n",
    "                             :plot-width 500\n",
    "                             :plot-height 500)"
   ]
  },
  {
   "cell_type": "code",
   "execution_count": null,
   "metadata": {},
   "outputs": [],
   "source": []
  },
  {
   "cell_type": "code",
   "execution_count": null,
   "metadata": {},
   "outputs": [],
   "source": []
  }
 ],
 "metadata": {
  "kernelspec": {
   "display_name": "Clojure",
   "language": "clojure",
   "name": "clojure"
  },
  "language_info": {
   "codemirror_mode": "Clojure",
   "file_extension": ".clj",
   "mimetype": "text/x-clojure",
   "name": "Clojure",
   "nbconverter_exporter": "",
   "version": "1.9.0"
  },
  "toc": {
   "base_numbering": 1,
   "nav_menu": {},
   "number_sections": false,
   "sideBar": false,
   "skip_h1_title": false,
   "title_cell": "Table of Contents",
   "title_sidebar": "Contents",
   "toc_cell": false,
   "toc_position": {},
   "toc_section_display": false,
   "toc_window_display": false
  }
 },
 "nbformat": 4,
 "nbformat_minor": 2
}
